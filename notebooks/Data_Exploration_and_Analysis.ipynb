{
 "cells": [
  {
   "cell_type": "code",
   "execution_count": 1,
   "metadata": {
    "tags": []
   },
   "outputs": [
    {
     "name": "stdout",
     "output_type": "stream",
     "text": [
      "Package                       Version\n",
      "----------------------------- ------------\n",
      "absl-py                       2.1.0\n",
      "aiofiles                      22.1.0\n",
      "aiosqlite                     0.19.0\n",
      "alembic                       1.12.1\n",
      "altair                        5.1.2\n",
      "anyio                         4.0.0\n",
      "archspec                      0.2.1\n",
      "argon2-cffi                   23.1.0\n",
      "argon2-cffi-bindings          21.2.0\n",
      "arrow                         1.3.0\n",
      "asttokens                     2.4.1\n",
      "astunparse                    1.6.3\n",
      "async-generator               1.10\n",
      "async-lru                     2.0.4\n",
      "attrs                         23.1.0\n",
      "Babel                         2.13.1\n",
      "backcall                      0.2.0\n",
      "backports.functools-lru-cache 1.6.5\n",
      "beautifulsoup4                4.12.2\n",
      "bleach                        6.1.0\n",
      "blinker                       1.6.3\n",
      "bokeh                         3.3.0\n",
      "boltons                       23.0.0\n",
      "Bottleneck                    1.3.7\n",
      "Brotli                        1.1.0\n",
      "cached-property               1.5.2\n",
      "cachetools                    5.3.2\n",
      "certifi                       2023.7.22\n",
      "certipy                       0.1.3\n",
      "cffi                          1.16.0\n",
      "charset-normalizer            3.3.1\n",
      "click                         8.1.7\n",
      "cloudpickle                   3.0.0\n",
      "colorama                      0.4.6\n",
      "comm                          0.1.4\n",
      "conda                         23.9.0\n",
      "conda-package-handling        2.2.0\n",
      "conda_package_streaming       0.9.0\n",
      "contourpy                     1.1.1\n",
      "cryptography                  41.0.5\n",
      "cycler                        0.12.1\n",
      "Cython                        3.0.5\n",
      "cytoolz                       0.12.2\n",
      "dask                          2023.10.1\n",
      "debugpy                       1.8.0\n",
      "decorator                     5.1.1\n",
      "defusedxml                    0.7.1\n",
      "dill                          0.3.7\n",
      "distributed                   2023.10.1\n",
      "entrypoints                   0.4\n",
      "exceptiongroup                1.1.3\n",
      "executing                     2.0.1\n",
      "fastjsonschema                2.18.1\n",
      "filelock                      3.9.0\n",
      "flatbuffers                   23.5.26\n",
      "fonttools                     4.43.1\n",
      "fqdn                          1.5.1\n",
      "fsspec                        2023.10.0\n",
      "gast                          0.5.4\n",
      "gitdb                         4.0.11\n",
      "GitPython                     3.1.41\n",
      "gmpy2                         2.1.2\n",
      "google-auth                   2.27.0\n",
      "google-auth-oauthlib          1.2.0\n",
      "google-pasta                  0.2.0\n",
      "greenlet                      3.0.1\n",
      "grpcio                        1.60.1\n",
      "h5py                          3.10.0\n",
      "idna                          3.4\n",
      "imagecodecs                   2023.9.18\n",
      "imageio                       2.31.5\n",
      "importlib-metadata            6.8.0\n",
      "importlib-resources           6.1.0\n",
      "ipykernel                     6.26.0\n",
      "ipympl                        0.9.3\n",
      "ipython                       8.16.1\n",
      "ipython-genutils              0.2.0\n",
      "ipywidgets                    8.1.1\n",
      "isoduration                   20.11.0\n",
      "jedi                          0.19.1\n",
      "Jinja2                        3.1.2\n",
      "joblib                        1.3.2\n",
      "json5                         0.9.14\n",
      "jsonpatch                     1.33\n",
      "jsonpointer                   2.4\n",
      "jsonschema                    4.19.2\n",
      "jsonschema-specifications     2023.7.1\n",
      "jupyter_client                7.4.9\n",
      "jupyter_core                  5.5.0\n",
      "jupyter-events                0.8.0\n",
      "jupyter-lsp                   2.2.0\n",
      "jupyter-resource-usage        1.0.1\n",
      "jupyter_server                2.9.1\n",
      "jupyter_server_fileid         0.9.1\n",
      "jupyter-server-mathjax        0.2.6\n",
      "jupyter_server_terminals      0.4.4\n",
      "jupyter_server_ydoc           0.8.0\n",
      "jupyter-telemetry             0.1.0\n",
      "jupyter-ydoc                  0.2.5\n",
      "jupyterhub                    4.0.2\n",
      "jupyterlab                    3.6.7\n",
      "jupyterlab-drawio             0.9.0\n",
      "jupyterlab_git                0.50.0\n",
      "jupyterlab-pygments           0.2.2\n",
      "jupyterlab_server             2.25.0\n",
      "jupyterlab-spellchecker       0.8.3\n",
      "jupyterlab-widgets            3.0.9\n",
      "keras                         2.15.0\n",
      "kiwisolver                    1.4.5\n",
      "lazy_loader                   0.3\n",
      "libclang                      16.0.6\n",
      "libmambapy                    1.5.3\n",
      "llvmlite                      0.40.1\n",
      "locket                        1.0.0\n",
      "lz4                           4.3.2\n",
      "Mako                          1.2.4\n",
      "mamba                         1.5.3\n",
      "Markdown                      3.5.2\n",
      "MarkupSafe                    2.1.3\n",
      "matplotlib                    3.8.0\n",
      "matplotlib-inline             0.1.6\n",
      "mistune                       3.0.1\n",
      "ml-dtypes                     0.2.0\n",
      "mpmath                        1.3.0\n",
      "msgpack                       1.0.6\n",
      "munkres                       1.1.4\n",
      "nbclassic                     1.0.0\n",
      "nbclient                      0.8.0\n",
      "nbconvert                     7.10.0\n",
      "nbdime                        4.0.1\n",
      "nbformat                      5.9.2\n",
      "nest-asyncio                  1.5.8\n",
      "networkx                      3.2.1\n",
      "notebook                      6.5.6\n",
      "notebook_shim                 0.2.3\n",
      "numba                         0.57.1\n",
      "numexpr                       2.8.7\n",
      "numpy                         1.24.4\n",
      "nvidia-cublas-cu11            11.11.3.6\n",
      "nvidia-cublas-cu12            12.3.4.1\n",
      "nvidia-cuda-cupti-cu11        11.8.87\n",
      "nvidia-cuda-nvrtc-cu11        11.8.89\n",
      "nvidia-cuda-nvrtc-cu12        12.3.107\n",
      "nvidia-cuda-runtime-cu11      11.8.89\n",
      "nvidia-cuda-runtime-cu12      12.3.101\n",
      "nvidia-cudnn-cu11             8.7.0.84\n",
      "nvidia-cudnn-cu12             8.9.7.29\n",
      "nvidia-cufft-cu11             10.9.0.58\n",
      "nvidia-curand-cu11            10.3.0.86\n",
      "nvidia-cusolver-cu11          11.4.1.48\n",
      "nvidia-cusparse-cu11          11.7.5.86\n",
      "nvidia-nccl-cu11              2.19.3\n",
      "nvidia-nvtx-cu11              11.8.86\n",
      "oauthlib                      3.2.2\n",
      "opt-einsum                    3.3.0\n",
      "overrides                     7.4.0\n",
      "packaging                     23.2\n",
      "pamela                        1.1.0\n",
      "pandas                        2.1.2\n",
      "pandocfilters                 1.5.0\n",
      "parso                         0.8.3\n",
      "partd                         1.4.1\n",
      "patsy                         0.5.3\n",
      "pexpect                       4.8.0\n",
      "pickleshare                   0.7.5\n",
      "Pillow                        10.1.0\n",
      "pip                           24.0\n",
      "pkgutil_resolve_name          1.3.10\n",
      "platformdirs                  3.11.0\n",
      "pluggy                        1.3.0\n",
      "prometheus-client             0.18.0\n",
      "prompt-toolkit                3.0.39\n",
      "protobuf                      4.23.4\n",
      "psutil                        5.9.5\n",
      "ptyprocess                    0.7.0\n",
      "pure-eval                     0.2.2\n",
      "py-cpuinfo                    9.0.0\n",
      "pyarrow                       13.0.0\n",
      "pyasn1                        0.5.1\n",
      "pyasn1-modules                0.3.0\n",
      "pycosat                       0.6.6\n",
      "pycparser                     2.21\n",
      "pycurl                        7.45.1\n",
      "Pygments                      2.16.1\n",
      "PyJWT                         2.8.0\n",
      "pyOpenSSL                     23.2.0\n",
      "pyparsing                     3.1.1\n",
      "PySocks                       1.7.1\n",
      "python-dateutil               2.8.2\n",
      "python-json-logger            2.0.7\n",
      "pytz                          2023.3.post1\n",
      "PyWavelets                    1.4.1\n",
      "PyYAML                        6.0.1\n",
      "pyzmq                         24.0.1\n",
      "referencing                   0.30.2\n",
      "requests                      2.31.0\n",
      "requests-oauthlib             1.3.1\n",
      "rfc3339-validator             0.1.4\n",
      "rfc3986-validator             0.1.1\n",
      "rpds-py                       0.10.6\n",
      "rsa                           4.9\n",
      "ruamel.yaml                   0.17.40\n",
      "ruamel.yaml.clib              0.2.7\n",
      "scikit-image                  0.22.0\n",
      "scikit-learn                  1.3.2\n",
      "scipy                         1.11.3\n",
      "seaborn                       0.13.0\n",
      "Send2Trash                    1.8.2\n",
      "setuptools                    68.2.2\n",
      "six                           1.16.0\n",
      "smmap                         5.0.1\n",
      "sniffio                       1.3.0\n",
      "sortedcontainers              2.4.0\n",
      "soupsieve                     2.5\n",
      "SQLAlchemy                    2.0.22\n",
      "stack-data                    0.6.2\n",
      "statsmodels                   0.14.0\n",
      "sympy                         1.12\n",
      "tables                        3.9.1\n",
      "tblib                         2.0.0\n",
      "tensorboard                   2.15.1\n",
      "tensorboard-data-server       0.7.2\n",
      "tensorflow                    2.15.0.post1\n",
      "tensorflow-estimator          2.15.0\n",
      "tensorflow-io-gcs-filesystem  0.36.0\n",
      "tensorrt                      8.6.1.post1\n",
      "tensorrt-bindings             8.6.1\n",
      "tensorrt-libs                 8.6.1\n",
      "termcolor                     2.4.0\n",
      "terminado                     0.17.1\n",
      "threadpoolctl                 3.2.0\n",
      "tifffile                      2023.9.26\n",
      "tinycss2                      1.2.1\n",
      "tomli                         2.0.1\n",
      "toolz                         0.12.0\n",
      "torch                         2.2.0+cu118\n",
      "torchaudio                    2.2.0+cu118\n",
      "torchvision                   0.17.0+cu118\n",
      "tornado                       6.3.3\n",
      "tqdm                          4.66.1\n",
      "traitlets                     5.13.0\n",
      "triton                        2.2.0\n",
      "truststore                    0.8.0\n",
      "types-python-dateutil         2.8.19.14\n",
      "typing_extensions             4.8.0\n",
      "typing-utils                  0.1.0\n",
      "tzdata                        2023.3\n",
      "unicodedata2                  15.1.0\n",
      "uri-template                  1.3.0\n",
      "urllib3                       2.0.7\n",
      "wcwidth                       0.2.9\n",
      "webcolors                     1.13\n",
      "webencodings                  0.5.1\n",
      "websocket-client              1.6.4\n",
      "Werkzeug                      3.0.1\n",
      "wheel                         0.41.3\n",
      "widgetsnbextension            4.0.9\n",
      "wrapt                         1.14.1\n",
      "xlrd                          2.0.1\n",
      "xyzservices                   2023.10.1\n",
      "y-py                          0.6.2\n",
      "ypy-websocket                 0.8.4\n",
      "zict                          3.0.0\n",
      "zipp                          3.17.0\n",
      "zstandard                     0.21.0\n",
      "\n",
      "\u001b[1m[\u001b[0m\u001b[34;49mnotice\u001b[0m\u001b[1;39;49m]\u001b[0m\u001b[39;49m A new release of pip is available: \u001b[0m\u001b[31;49m24.0\u001b[0m\u001b[39;49m -> \u001b[0m\u001b[32;49m24.1.2\u001b[0m\n",
      "\u001b[1m[\u001b[0m\u001b[34;49mnotice\u001b[0m\u001b[1;39;49m]\u001b[0m\u001b[39;49m To update, run: \u001b[0m\u001b[32;49mpip install --upgrade pip\u001b[0m\n"
     ]
    }
   ],
   "source": [
    "!pip list"
   ]
  },
  {
   "cell_type": "code",
   "execution_count": 2,
   "metadata": {
    "tags": []
   },
   "outputs": [],
   "source": [
    "import torch"
   ]
  },
  {
   "cell_type": "code",
   "execution_count": 20,
   "metadata": {
    "tags": []
   },
   "outputs": [],
   "source": [
    "my_torch = torch.arange(15)"
   ]
  },
  {
   "cell_type": "code",
   "execution_count": 21,
   "metadata": {
    "tags": []
   },
   "outputs": [],
   "source": [
    "my_torch = my_torch.view(-1,3)"
   ]
  },
  {
   "cell_type": "code",
   "execution_count": 22,
   "metadata": {
    "tags": []
   },
   "outputs": [
    {
     "data": {
      "text/plain": [
       "tensor([[ 0,  1,  2],\n",
       "        [ 3,  4,  5],\n",
       "        [ 6,  7,  8],\n",
       "        [ 9, 10, 11],\n",
       "        [12, 13, 14]])"
      ]
     },
     "execution_count": 22,
     "metadata": {},
     "output_type": "execute_result"
    }
   ],
   "source": [
    "my_torch"
   ]
  },
  {
   "cell_type": "code",
   "execution_count": 23,
   "metadata": {
    "tags": []
   },
   "outputs": [
    {
     "data": {
      "text/plain": [
       "tensor([ 1,  4,  7, 10, 13])"
      ]
     },
     "execution_count": 23,
     "metadata": {},
     "output_type": "execute_result"
    }
   ],
   "source": [
    "my_torch[:,1]"
   ]
  },
  {
   "cell_type": "code",
   "execution_count": 24,
   "metadata": {
    "tags": []
   },
   "outputs": [
    {
     "data": {
      "text/plain": [
       "tensor([[  0,   1,   4],\n",
       "        [  9,  16,  25],\n",
       "        [ 36,  49,  64],\n",
       "        [ 81, 100, 121],\n",
       "        [144, 169, 196]])"
      ]
     },
     "execution_count": 24,
     "metadata": {},
     "output_type": "execute_result"
    }
   ],
   "source": []
  },
  {
   "cell_type": "code",
   "execution_count": null,
   "metadata": {},
   "outputs": [],
   "source": []
  }
 ],
 "metadata": {
  "kernelspec": {
   "display_name": "Base",
   "language": "python",
   "name": "myenv"
  },
  "language_info": {
   "codemirror_mode": {
    "name": "ipython",
    "version": 3
   },
   "file_extension": ".py",
   "mimetype": "text/x-python",
   "name": "python",
   "nbconvert_exporter": "python",
   "pygments_lexer": "ipython3",
   "version": "3.10.13"
  }
 },
 "nbformat": 4,
 "nbformat_minor": 4
}
