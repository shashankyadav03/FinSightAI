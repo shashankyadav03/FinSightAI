{
 "cells": [
  {
   "cell_type": "code",
   "execution_count": 1,
   "id": "e7c1ce49-ac43-44b5-8185-b3d8de3860a1",
   "metadata": {
    "tags": []
   },
   "outputs": [
    {
     "name": "stdout",
     "output_type": "stream",
     "text": [
      "Sun Aug 18 02:35:20 2024       \n",
      "+-----------------------------------------------------------------------------------------+\n",
      "| NVIDIA-SMI 550.54.15              Driver Version: 550.54.15      CUDA Version: 12.4     |\n",
      "|-----------------------------------------+------------------------+----------------------+\n",
      "| GPU  Name                 Persistence-M | Bus-Id          Disp.A | Volatile Uncorr. ECC |\n",
      "| Fan  Temp   Perf          Pwr:Usage/Cap |           Memory-Usage | GPU-Util  Compute M. |\n",
      "|                                         |                        |               MIG M. |\n",
      "|=========================================+========================+======================|\n",
      "|   0  NVIDIA A100 80GB PCIe          On  |   00000000:C2:00.0 Off |                    0 |\n",
      "| N/A   42C    P0             73W /  300W |   30778MiB /  81920MiB |      0%      Default |\n",
      "|                                         |                        |             Disabled |\n",
      "+-----------------------------------------+------------------------+----------------------+\n",
      "                                                                                         \n",
      "+-----------------------------------------------------------------------------------------+\n",
      "| Processes:                                                                              |\n",
      "|  GPU   GI   CI        PID   Type   Process name                              GPU Memory |\n",
      "|        ID   ID                                                               Usage      |\n",
      "|=========================================================================================|\n",
      "+-----------------------------------------------------------------------------------------+\n"
     ]
    }
   ],
   "source": [
    "!nvidia-smi"
   ]
  },
  {
   "cell_type": "code",
   "execution_count": 2,
   "id": "8742cb68-1275-4a57-9884-16b59ab756f6",
   "metadata": {
    "tags": []
   },
   "outputs": [
    {
     "name": "stdout",
     "output_type": "stream",
     "text": [
      "Requirement already satisfied: torch in /home/jovyan/FinSightAI-Shashank/Virtual/FinSightAI/FinDecide/Test/Test3/finetune/lib/python3.10/site-packages (2.4.0)\n",
      "Requirement already satisfied: transformers in /home/jovyan/FinSightAI-Shashank/Virtual/FinSightAI/FinDecide/Test/Test3/finetune/lib/python3.10/site-packages (4.44.0)\n",
      "Requirement already satisfied: filelock in /home/jovyan/FinSightAI-Shashank/Virtual/FinSightAI/FinDecide/Test/Test3/finetune/lib/python3.10/site-packages (from torch) (3.15.4)\n",
      "Requirement already satisfied: typing-extensions>=4.8.0 in /home/jovyan/FinSightAI-Shashank/Virtual/FinSightAI/FinDecide/Test/Test3/finetune/lib/python3.10/site-packages (from torch) (4.12.2)\n",
      "Requirement already satisfied: sympy in /home/jovyan/FinSightAI-Shashank/Virtual/FinSightAI/FinDecide/Test/Test3/finetune/lib/python3.10/site-packages (from torch) (1.13.2)\n",
      "Requirement already satisfied: networkx in /home/jovyan/FinSightAI-Shashank/Virtual/FinSightAI/FinDecide/Test/Test3/finetune/lib/python3.10/site-packages (from torch) (3.3)\n",
      "Requirement already satisfied: jinja2 in /home/jovyan/FinSightAI-Shashank/Virtual/FinSightAI/FinDecide/Test/Test3/finetune/lib/python3.10/site-packages (from torch) (3.1.4)\n",
      "Requirement already satisfied: fsspec in /home/jovyan/FinSightAI-Shashank/Virtual/FinSightAI/FinDecide/Test/Test3/finetune/lib/python3.10/site-packages (from torch) (2024.5.0)\n",
      "Requirement already satisfied: nvidia-cuda-nvrtc-cu12==12.1.105 in /home/jovyan/FinSightAI-Shashank/Virtual/FinSightAI/FinDecide/Test/Test3/finetune/lib/python3.10/site-packages (from torch) (12.1.105)\n",
      "Requirement already satisfied: nvidia-cuda-runtime-cu12==12.1.105 in /home/jovyan/FinSightAI-Shashank/Virtual/FinSightAI/FinDecide/Test/Test3/finetune/lib/python3.10/site-packages (from torch) (12.1.105)\n",
      "Requirement already satisfied: nvidia-cuda-cupti-cu12==12.1.105 in /home/jovyan/FinSightAI-Shashank/Virtual/FinSightAI/FinDecide/Test/Test3/finetune/lib/python3.10/site-packages (from torch) (12.1.105)\n",
      "Requirement already satisfied: nvidia-cudnn-cu12==9.1.0.70 in /home/jovyan/FinSightAI-Shashank/Virtual/FinSightAI/FinDecide/Test/Test3/finetune/lib/python3.10/site-packages (from torch) (9.1.0.70)\n",
      "Requirement already satisfied: nvidia-cublas-cu12==12.1.3.1 in /home/jovyan/FinSightAI-Shashank/Virtual/FinSightAI/FinDecide/Test/Test3/finetune/lib/python3.10/site-packages (from torch) (12.1.3.1)\n",
      "Requirement already satisfied: nvidia-cufft-cu12==11.0.2.54 in /home/jovyan/FinSightAI-Shashank/Virtual/FinSightAI/FinDecide/Test/Test3/finetune/lib/python3.10/site-packages (from torch) (11.0.2.54)\n",
      "Requirement already satisfied: nvidia-curand-cu12==10.3.2.106 in /home/jovyan/FinSightAI-Shashank/Virtual/FinSightAI/FinDecide/Test/Test3/finetune/lib/python3.10/site-packages (from torch) (10.3.2.106)\n",
      "Requirement already satisfied: nvidia-cusolver-cu12==11.4.5.107 in /home/jovyan/FinSightAI-Shashank/Virtual/FinSightAI/FinDecide/Test/Test3/finetune/lib/python3.10/site-packages (from torch) (11.4.5.107)\n",
      "Requirement already satisfied: nvidia-cusparse-cu12==12.1.0.106 in /home/jovyan/FinSightAI-Shashank/Virtual/FinSightAI/FinDecide/Test/Test3/finetune/lib/python3.10/site-packages (from torch) (12.1.0.106)\n",
      "Requirement already satisfied: nvidia-nccl-cu12==2.20.5 in /home/jovyan/FinSightAI-Shashank/Virtual/FinSightAI/FinDecide/Test/Test3/finetune/lib/python3.10/site-packages (from torch) (2.20.5)\n",
      "Requirement already satisfied: nvidia-nvtx-cu12==12.1.105 in /home/jovyan/FinSightAI-Shashank/Virtual/FinSightAI/FinDecide/Test/Test3/finetune/lib/python3.10/site-packages (from torch) (12.1.105)\n",
      "Requirement already satisfied: triton==3.0.0 in /home/jovyan/FinSightAI-Shashank/Virtual/FinSightAI/FinDecide/Test/Test3/finetune/lib/python3.10/site-packages (from torch) (3.0.0)\n",
      "Requirement already satisfied: nvidia-nvjitlink-cu12 in /home/jovyan/FinSightAI-Shashank/Virtual/FinSightAI/FinDecide/Test/Test3/finetune/lib/python3.10/site-packages (from nvidia-cusolver-cu12==11.4.5.107->torch) (12.6.20)\n",
      "Requirement already satisfied: huggingface-hub<1.0,>=0.23.2 in /home/jovyan/FinSightAI-Shashank/Virtual/FinSightAI/FinDecide/Test/Test3/finetune/lib/python3.10/site-packages (from transformers) (0.24.5)\n",
      "Requirement already satisfied: numpy>=1.17 in /home/jovyan/FinSightAI-Shashank/Virtual/FinSightAI/FinDecide/Test/Test3/finetune/lib/python3.10/site-packages (from transformers) (1.26.4)\n",
      "Requirement already satisfied: packaging>=20.0 in /home/jovyan/FinSightAI-Shashank/Virtual/FinSightAI/FinDecide/Test/Test3/finetune/lib/python3.10/site-packages (from transformers) (24.1)\n",
      "Requirement already satisfied: pyyaml>=5.1 in /home/jovyan/FinSightAI-Shashank/Virtual/FinSightAI/FinDecide/Test/Test3/finetune/lib/python3.10/site-packages (from transformers) (6.0.2)\n",
      "Requirement already satisfied: regex!=2019.12.17 in /home/jovyan/FinSightAI-Shashank/Virtual/FinSightAI/FinDecide/Test/Test3/finetune/lib/python3.10/site-packages (from transformers) (2024.7.24)\n",
      "Requirement already satisfied: requests in /home/jovyan/FinSightAI-Shashank/Virtual/FinSightAI/FinDecide/Test/Test3/finetune/lib/python3.10/site-packages (from transformers) (2.32.3)\n",
      "Requirement already satisfied: safetensors>=0.4.1 in /home/jovyan/FinSightAI-Shashank/Virtual/FinSightAI/FinDecide/Test/Test3/finetune/lib/python3.10/site-packages (from transformers) (0.4.4)\n",
      "Requirement already satisfied: tokenizers<0.20,>=0.19 in /home/jovyan/FinSightAI-Shashank/Virtual/FinSightAI/FinDecide/Test/Test3/finetune/lib/python3.10/site-packages (from transformers) (0.19.1)\n",
      "Requirement already satisfied: tqdm>=4.27 in /home/jovyan/FinSightAI-Shashank/Virtual/FinSightAI/FinDecide/Test/Test3/finetune/lib/python3.10/site-packages (from transformers) (4.66.5)\n",
      "Requirement already satisfied: MarkupSafe>=2.0 in /home/jovyan/FinSightAI-Shashank/Virtual/FinSightAI/FinDecide/Test/Test3/finetune/lib/python3.10/site-packages (from jinja2->torch) (2.1.5)\n",
      "Requirement already satisfied: charset-normalizer<4,>=2 in /home/jovyan/FinSightAI-Shashank/Virtual/FinSightAI/FinDecide/Test/Test3/finetune/lib/python3.10/site-packages (from requests->transformers) (3.3.2)\n",
      "Requirement already satisfied: idna<4,>=2.5 in /home/jovyan/FinSightAI-Shashank/Virtual/FinSightAI/FinDecide/Test/Test3/finetune/lib/python3.10/site-packages (from requests->transformers) (3.7)\n",
      "Requirement already satisfied: urllib3<3,>=1.21.1 in /home/jovyan/FinSightAI-Shashank/Virtual/FinSightAI/FinDecide/Test/Test3/finetune/lib/python3.10/site-packages (from requests->transformers) (2.2.2)\n",
      "Requirement already satisfied: certifi>=2017.4.17 in /home/jovyan/FinSightAI-Shashank/Virtual/FinSightAI/FinDecide/Test/Test3/finetune/lib/python3.10/site-packages (from requests->transformers) (2024.7.4)\n",
      "Requirement already satisfied: mpmath<1.4,>=1.1.0 in /home/jovyan/FinSightAI-Shashank/Virtual/FinSightAI/FinDecide/Test/Test3/finetune/lib/python3.10/site-packages (from sympy->torch) (1.3.0)\n",
      "Note: you may need to restart the kernel to use updated packages.\n"
     ]
    }
   ],
   "source": [
    "pip install torch transformers\n"
   ]
  },
  {
   "cell_type": "code",
   "execution_count": 3,
   "id": "2324ec0a-2d91-4a5e-a95a-156b0ab2d5be",
   "metadata": {
    "tags": []
   },
   "outputs": [
    {
     "name": "stderr",
     "output_type": "stream",
     "text": [
      "/home/jovyan/FinSightAI-Shashank/Virtual/FinSightAI/FinDecide/Test/Test3/finetune/lib/python3.10/site-packages/tqdm/auto.py:21: TqdmWarning: IProgress not found. Please update jupyter and ipywidgets. See https://ipywidgets.readthedocs.io/en/stable/user_install.html\n",
      "  from .autonotebook import tqdm as notebook_tqdm\n"
     ]
    }
   ],
   "source": [
    "import torch\n",
    "from transformers import AutoTokenizer, AutoModel\n",
    "import pandas as pd\n",
    "import numpy as np\n",
    "from sklearn.metrics import precision_score, recall_score, f1_score, accuracy_score"
   ]
  },
  {
   "cell_type": "code",
   "execution_count": 4,
   "id": "305ce630-b8b4-4c2e-ab11-829959c97f50",
   "metadata": {
    "tags": []
   },
   "outputs": [
    {
     "name": "stderr",
     "output_type": "stream",
     "text": [
      "/home/jovyan/FinSightAI-Shashank/Virtual/FinSightAI/FinDecide/Test/Test3/finetune/lib/python3.10/site-packages/transformers/tokenization_utils_base.py:1601: FutureWarning: `clean_up_tokenization_spaces` was not set. It will be set to `True` by default. This behavior will be depracted in transformers v4.45, and will be then set to `False` by default. For more details check this issue: https://github.com/huggingface/transformers/issues/31884\n",
      "  warnings.warn(\n"
     ]
    }
   ],
   "source": [
    "# Load the model and tokenizer, and move the model to the GPU\n",
    "model_name = 'sentence-transformers/all-MiniLM-L6-v2'\n",
    "tokenizer = AutoTokenizer.from_pretrained(model_name)\n",
    "model = AutoModel.from_pretrained(model_name).to('cuda')\n",
    "\n",
    "# Define cosine similarity function\n",
    "def cosine_similarity(a, b):\n",
    "    return np.dot(a, b) / (np.linalg.norm(a) * np.linalg.norm(b))\n",
    "\n",
    "# Function to get embeddings on GPU\n",
    "def get_embeddings(texts, batch_size=32):\n",
    "    embeddings = []\n",
    "    with torch.no_grad():\n",
    "        for i in range(0, len(texts), batch_size):\n",
    "            batch = texts[i:i + batch_size]\n",
    "            tokens = tokenizer(batch, padding=True, truncation=True, return_tensors='pt').to('cuda')\n",
    "            outputs = model(**tokens)\n",
    "            batch_embeddings = outputs.last_hidden_state.mean(dim=1).cpu().numpy()\n",
    "            embeddings.extend(batch_embeddings)\n",
    "    return embeddings\n",
    "\n",
    "# Function to calculate embeddings for all texts\n",
    "def calculate_embeddings(df):\n",
    "    df['untrained_embedding'] = get_embeddings(df['untrained_prediction'].tolist())\n",
    "    df['trained_embedding'] = get_embeddings(df['trained_prediction'].tolist())\n",
    "    df['answer_embedding'] = get_embeddings(df['answer'].tolist())\n",
    "    return df"
   ]
  },
  {
   "cell_type": "code",
   "execution_count": 5,
   "id": "b127ec76-505e-436c-b90d-674b26e70649",
   "metadata": {
    "tags": []
   },
   "outputs": [],
   "source": [
    "# Load the dataset\n",
    "df = pd.read_csv('predictions.csv')\n",
    "\n",
    "# Calculate embeddings and store them in the DataFrame\n",
    "df = calculate_embeddings(df)\n"
   ]
  },
  {
   "cell_type": "code",
   "execution_count": 6,
   "id": "5cedac98-9579-44a1-9501-b007435df9ff",
   "metadata": {
    "tags": []
   },
   "outputs": [
    {
     "name": "stdout",
     "output_type": "stream",
     "text": [
      "Untrained Model - Precision: 100.00%, Recall: 53.00%, F1 Score: 69.28%, Accuracy: 53.00%\n",
      "Trained Model - Precision: 100.00%, Recall: 71.00%, F1 Score: 83.04%, Accuracy: 71.00%\n"
     ]
    }
   ],
   "source": [
    "# Function to calculate precision, recall, F1 score, and accuracy\n",
    "def calculate_metrics(predictions, answers, threshold=0.8):\n",
    "    similarity_scores = [\n",
    "        cosine_similarity(pred_embedding, ans_embedding)\n",
    "        for pred_embedding, ans_embedding in zip(predictions, answers)\n",
    "    ]\n",
    "    \n",
    "    y_true = np.ones(len(answers))  # Ground truth: all answers are positive\n",
    "    y_pred = np.array([1 if score >= threshold else 0 for score in similarity_scores])\n",
    "\n",
    "    precision = precision_score(y_true, y_pred)\n",
    "    recall = recall_score(y_true, y_pred)\n",
    "    f1 = f1_score(y_true, y_pred)\n",
    "    accuracy = accuracy_score(y_true, y_pred)\n",
    "    \n",
    "    return precision, recall, f1, accuracy\n",
    "\n",
    "# Calculate metrics for untrained predictions\n",
    "untrained_metrics = calculate_metrics(df['untrained_embedding'], df['answer_embedding'], threshold=0.8)\n",
    "print(f'Untrained Model - Precision: {untrained_metrics[0]:.2%}, Recall: {untrained_metrics[1]:.2%}, F1 Score: {untrained_metrics[2]:.2%}, Accuracy: {untrained_metrics[3]:.2%}')\n",
    "\n",
    "# Calculate metrics for trained predictions\n",
    "trained_metrics = calculate_metrics(df['trained_embedding'], df['answer_embedding'], threshold=0.8)\n",
    "print(f'Trained Model - Precision: {trained_metrics[0]:.2%}, Recall: {trained_metrics[1]:.2%}, F1 Score: {trained_metrics[2]:.2%}, Accuracy: {trained_metrics[3]:.2%}')\n"
   ]
  },
  {
   "cell_type": "code",
   "execution_count": null,
   "id": "8ff01be1-ef4e-46d9-a8ec-1e7d07292e74",
   "metadata": {},
   "outputs": [],
   "source": []
  }
 ],
 "metadata": {
  "kernelspec": {
   "display_name": "Python (finetune)",
   "language": "python",
   "name": "finetune"
  },
  "language_info": {
   "codemirror_mode": {
    "name": "ipython",
    "version": 3
   },
   "file_extension": ".py",
   "mimetype": "text/x-python",
   "name": "python",
   "nbconvert_exporter": "python",
   "pygments_lexer": "ipython3",
   "version": "3.10.13"
  }
 },
 "nbformat": 4,
 "nbformat_minor": 5
}
