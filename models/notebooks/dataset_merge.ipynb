{
 "cells": [
  {
   "cell_type": "code",
   "execution_count": 1,
   "id": "546d1fa1-7a92-4825-a4c3-1cc03da4ad37",
   "metadata": {
    "tags": []
   },
   "outputs": [
    {
     "name": "stderr",
     "output_type": "stream",
     "text": [
      "/home/jovyan/FinSightAI-Shashank/Virtual/FinSightAI/FinDecide/Test/Test3/finetune/lib/python3.10/site-packages/tqdm/auto.py:21: TqdmWarning: IProgress not found. Please update jupyter and ipywidgets. See https://ipywidgets.readthedocs.io/en/stable/user_install.html\n",
      "  from .autonotebook import tqdm as notebook_tqdm\n"
     ]
    }
   ],
   "source": [
    "import json\n",
    "import pandas as pd\n",
    "from datasets import Dataset, load_dataset\n",
    "from huggingface_hub import HfApi, HfFolder"
   ]
  },
  {
   "cell_type": "code",
   "execution_count": 46,
   "id": "c92b3b5d-0ca5-4cca-9919-ff588e782540",
   "metadata": {
    "tags": []
   },
   "outputs": [],
   "source": [
    "context_text = \"This system provides tailored financial advice by analyzing individual risk tolerance and investment goals, offering optimized asset allocation strategies to balance risk and return. It helps users make informed decisions by considering current market conditions and their personal financial objectives\""
   ]
  },
  {
   "cell_type": "code",
   "execution_count": 47,
   "id": "9f312029-d92e-4fee-b6c2-37474db31d08",
   "metadata": {
    "tags": []
   },
   "outputs": [],
   "source": [
    "with open('custom_dataset.json', 'r') as f:\n",
    "    custom_data = json.load(f)"
   ]
  },
  {
   "cell_type": "code",
   "execution_count": 48,
   "id": "0db141ac-f465-49ea-bc1e-f491c2cb8672",
   "metadata": {
    "tags": []
   },
   "outputs": [],
   "source": [
    "for item in custom_data:\n",
    "    item['question'] = item.pop('input')\n",
    "    item['answer'] = item.pop('output')\n",
    "    item.setdefault('context', context_text)  # Assuming you might not have context\n",
    "    item.setdefault('ticker', 'UNKNOWN')  # Placeholder for ticker if not available\n",
    "    item.setdefault('filing', 'N/A')  # Placeholder for filing type if not available\n"
   ]
  },
  {
   "cell_type": "code",
   "execution_count": 49,
   "id": "23eebfdc-bf06-4b23-be0a-30c9d3e70699",
   "metadata": {
    "tags": []
   },
   "outputs": [],
   "source": [
    "df_custom = pd.DataFrame(custom_data)"
   ]
  },
  {
   "cell_type": "code",
   "execution_count": 50,
   "id": "f153ed05-dc97-4af1-a97e-ac7da9b5b960",
   "metadata": {
    "tags": []
   },
   "outputs": [
    {
     "data": {
      "text/html": [
       "<div>\n",
       "<style scoped>\n",
       "    .dataframe tbody tr th:only-of-type {\n",
       "        vertical-align: middle;\n",
       "    }\n",
       "\n",
       "    .dataframe tbody tr th {\n",
       "        vertical-align: top;\n",
       "    }\n",
       "\n",
       "    .dataframe thead th {\n",
       "        text-align: right;\n",
       "    }\n",
       "</style>\n",
       "<table border=\"1\" class=\"dataframe\">\n",
       "  <thead>\n",
       "    <tr style=\"text-align: right;\">\n",
       "      <th></th>\n",
       "      <th>question</th>\n",
       "      <th>answer</th>\n",
       "      <th>context</th>\n",
       "      <th>ticker</th>\n",
       "      <th>filing</th>\n",
       "    </tr>\n",
       "  </thead>\n",
       "  <tbody>\n",
       "    <tr>\n",
       "      <th>0</th>\n",
       "      <td>I'm nearing retirement. What kind of investmen...</td>\n",
       "      <td>For retirement, it's wise to focus on income-g...</td>\n",
       "      <td>This system provides tailored financial advice...</td>\n",
       "      <td>UNKNOWN</td>\n",
       "      <td>N/A</td>\n",
       "    </tr>\n",
       "    <tr>\n",
       "      <th>1</th>\n",
       "      <td>How should I adjust my portfolio in response t...</td>\n",
       "      <td>Rising inflation can erode the value of fixed-...</td>\n",
       "      <td>This system provides tailored financial advice...</td>\n",
       "      <td>UNKNOWN</td>\n",
       "      <td>N/A</td>\n",
       "    </tr>\n",
       "    <tr>\n",
       "      <th>2</th>\n",
       "      <td>Is it a good time to invest in tech stocks giv...</td>\n",
       "      <td>Tech stocks have been volatile recently due to...</td>\n",
       "      <td>This system provides tailored financial advice...</td>\n",
       "      <td>UNKNOWN</td>\n",
       "      <td>N/A</td>\n",
       "    </tr>\n",
       "    <tr>\n",
       "      <th>3</th>\n",
       "      <td>I'm a risk-averse investor. How can I maximize...</td>\n",
       "      <td>For a risk-averse investor, a diversified port...</td>\n",
       "      <td>This system provides tailored financial advice...</td>\n",
       "      <td>UNKNOWN</td>\n",
       "      <td>N/A</td>\n",
       "    </tr>\n",
       "    <tr>\n",
       "      <th>4</th>\n",
       "      <td>What are some strategies for investing in a be...</td>\n",
       "      <td>In a bear market, it's crucial to focus on pre...</td>\n",
       "      <td>This system provides tailored financial advice...</td>\n",
       "      <td>UNKNOWN</td>\n",
       "      <td>N/A</td>\n",
       "    </tr>\n",
       "  </tbody>\n",
       "</table>\n",
       "</div>"
      ],
      "text/plain": [
       "                                            question  \\\n",
       "0  I'm nearing retirement. What kind of investmen...   \n",
       "1  How should I adjust my portfolio in response t...   \n",
       "2  Is it a good time to invest in tech stocks giv...   \n",
       "3  I'm a risk-averse investor. How can I maximize...   \n",
       "4  What are some strategies for investing in a be...   \n",
       "\n",
       "                                              answer  \\\n",
       "0  For retirement, it's wise to focus on income-g...   \n",
       "1  Rising inflation can erode the value of fixed-...   \n",
       "2  Tech stocks have been volatile recently due to...   \n",
       "3  For a risk-averse investor, a diversified port...   \n",
       "4  In a bear market, it's crucial to focus on pre...   \n",
       "\n",
       "                                             context   ticker filing  \n",
       "0  This system provides tailored financial advice...  UNKNOWN    N/A  \n",
       "1  This system provides tailored financial advice...  UNKNOWN    N/A  \n",
       "2  This system provides tailored financial advice...  UNKNOWN    N/A  \n",
       "3  This system provides tailored financial advice...  UNKNOWN    N/A  \n",
       "4  This system provides tailored financial advice...  UNKNOWN    N/A  "
      ]
     },
     "execution_count": 50,
     "metadata": {},
     "output_type": "execute_result"
    }
   ],
   "source": [
    "df_custom.head()"
   ]
  },
  {
   "cell_type": "code",
   "execution_count": 51,
   "id": "4eda99a1-e5bd-4ced-ba6e-1335d455aacc",
   "metadata": {
    "tags": []
   },
   "outputs": [],
   "source": [
    "financial_qa_10K = load_dataset(\"virattt/financial-qa-10K\", split='train')\n"
   ]
  },
  {
   "cell_type": "code",
   "execution_count": 52,
   "id": "35ff1d13-a008-4407-bb61-89e98b6b5b09",
   "metadata": {
    "tags": []
   },
   "outputs": [],
   "source": [
    "df_existing = pd.DataFrame(financial_qa_10K)"
   ]
  },
  {
   "cell_type": "code",
   "execution_count": 53,
   "id": "59bea7be-b5f9-4c63-aecd-642f8266fe3e",
   "metadata": {
    "tags": []
   },
   "outputs": [
    {
     "data": {
      "text/html": [
       "<div>\n",
       "<style scoped>\n",
       "    .dataframe tbody tr th:only-of-type {\n",
       "        vertical-align: middle;\n",
       "    }\n",
       "\n",
       "    .dataframe tbody tr th {\n",
       "        vertical-align: top;\n",
       "    }\n",
       "\n",
       "    .dataframe thead th {\n",
       "        text-align: right;\n",
       "    }\n",
       "</style>\n",
       "<table border=\"1\" class=\"dataframe\">\n",
       "  <thead>\n",
       "    <tr style=\"text-align: right;\">\n",
       "      <th></th>\n",
       "      <th>question</th>\n",
       "      <th>answer</th>\n",
       "      <th>context</th>\n",
       "      <th>ticker</th>\n",
       "      <th>filing</th>\n",
       "    </tr>\n",
       "  </thead>\n",
       "  <tbody>\n",
       "    <tr>\n",
       "      <th>0</th>\n",
       "      <td>What area did NVIDIA initially focus on before...</td>\n",
       "      <td>NVIDIA initially focused on PC graphics.</td>\n",
       "      <td>Since our original focus on PC graphics, we ha...</td>\n",
       "      <td>NVDA</td>\n",
       "      <td>2023_10K</td>\n",
       "    </tr>\n",
       "    <tr>\n",
       "      <th>1</th>\n",
       "      <td>What are some of the recent applications of GP...</td>\n",
       "      <td>Recent applications of GPU-powered deep learni...</td>\n",
       "      <td>Some of the most recent applications of GPU-po...</td>\n",
       "      <td>NVDA</td>\n",
       "      <td>2023_10K</td>\n",
       "    </tr>\n",
       "    <tr>\n",
       "      <th>2</th>\n",
       "      <td>What significant invention did NVIDIA create i...</td>\n",
       "      <td>NVIDIA invented the GPU in 1999.</td>\n",
       "      <td>Our invention of the GPU in 1999 defined moder...</td>\n",
       "      <td>NVDA</td>\n",
       "      <td>2023_10K</td>\n",
       "    </tr>\n",
       "    <tr>\n",
       "      <th>3</th>\n",
       "      <td>How does NVIDIA's platform strategy contribute...</td>\n",
       "      <td>NVIDIA's platform strategy brings together har...</td>\n",
       "      <td>NVIDIA has a platform strategy, bringing toget...</td>\n",
       "      <td>NVDA</td>\n",
       "      <td>2023_10K</td>\n",
       "    </tr>\n",
       "    <tr>\n",
       "      <th>4</th>\n",
       "      <td>What does NVIDIA's CUDA programming model enable?</td>\n",
       "      <td>NVIDIA's CUDA programming model opened the par...</td>\n",
       "      <td>With our introduction of the CUDA programming ...</td>\n",
       "      <td>NVDA</td>\n",
       "      <td>2023_10K</td>\n",
       "    </tr>\n",
       "  </tbody>\n",
       "</table>\n",
       "</div>"
      ],
      "text/plain": [
       "                                            question  \\\n",
       "0  What area did NVIDIA initially focus on before...   \n",
       "1  What are some of the recent applications of GP...   \n",
       "2  What significant invention did NVIDIA create i...   \n",
       "3  How does NVIDIA's platform strategy contribute...   \n",
       "4  What does NVIDIA's CUDA programming model enable?   \n",
       "\n",
       "                                              answer  \\\n",
       "0           NVIDIA initially focused on PC graphics.   \n",
       "1  Recent applications of GPU-powered deep learni...   \n",
       "2                   NVIDIA invented the GPU in 1999.   \n",
       "3  NVIDIA's platform strategy brings together har...   \n",
       "4  NVIDIA's CUDA programming model opened the par...   \n",
       "\n",
       "                                             context ticker    filing  \n",
       "0  Since our original focus on PC graphics, we ha...   NVDA  2023_10K  \n",
       "1  Some of the most recent applications of GPU-po...   NVDA  2023_10K  \n",
       "2  Our invention of the GPU in 1999 defined moder...   NVDA  2023_10K  \n",
       "3  NVIDIA has a platform strategy, bringing toget...   NVDA  2023_10K  \n",
       "4  With our introduction of the CUDA programming ...   NVDA  2023_10K  "
      ]
     },
     "execution_count": 53,
     "metadata": {},
     "output_type": "execute_result"
    }
   ],
   "source": [
    "df_existing.head()"
   ]
  },
  {
   "cell_type": "code",
   "execution_count": 54,
   "id": "daa36571-72ed-44af-952f-479a7bc8199b",
   "metadata": {
    "tags": []
   },
   "outputs": [],
   "source": [
    "df_combined = pd.concat([df_existing, df_custom], ignore_index=True)\n"
   ]
  },
  {
   "cell_type": "code",
   "execution_count": 55,
   "id": "e7c526af-ea40-4700-9e55-3fe63eb23731",
   "metadata": {
    "tags": []
   },
   "outputs": [
    {
     "data": {
      "text/html": [
       "<div>\n",
       "<style scoped>\n",
       "    .dataframe tbody tr th:only-of-type {\n",
       "        vertical-align: middle;\n",
       "    }\n",
       "\n",
       "    .dataframe tbody tr th {\n",
       "        vertical-align: top;\n",
       "    }\n",
       "\n",
       "    .dataframe thead th {\n",
       "        text-align: right;\n",
       "    }\n",
       "</style>\n",
       "<table border=\"1\" class=\"dataframe\">\n",
       "  <thead>\n",
       "    <tr style=\"text-align: right;\">\n",
       "      <th></th>\n",
       "      <th>question</th>\n",
       "      <th>answer</th>\n",
       "      <th>context</th>\n",
       "      <th>ticker</th>\n",
       "      <th>filing</th>\n",
       "    </tr>\n",
       "  </thead>\n",
       "  <tbody>\n",
       "    <tr>\n",
       "      <th>0</th>\n",
       "      <td>What area did NVIDIA initially focus on before...</td>\n",
       "      <td>NVIDIA initially focused on PC graphics.</td>\n",
       "      <td>Since our original focus on PC graphics, we ha...</td>\n",
       "      <td>NVDA</td>\n",
       "      <td>2023_10K</td>\n",
       "    </tr>\n",
       "    <tr>\n",
       "      <th>1</th>\n",
       "      <td>What are some of the recent applications of GP...</td>\n",
       "      <td>Recent applications of GPU-powered deep learni...</td>\n",
       "      <td>Some of the most recent applications of GPU-po...</td>\n",
       "      <td>NVDA</td>\n",
       "      <td>2023_10K</td>\n",
       "    </tr>\n",
       "    <tr>\n",
       "      <th>2</th>\n",
       "      <td>What significant invention did NVIDIA create i...</td>\n",
       "      <td>NVIDIA invented the GPU in 1999.</td>\n",
       "      <td>Our invention of the GPU in 1999 defined moder...</td>\n",
       "      <td>NVDA</td>\n",
       "      <td>2023_10K</td>\n",
       "    </tr>\n",
       "    <tr>\n",
       "      <th>3</th>\n",
       "      <td>How does NVIDIA's platform strategy contribute...</td>\n",
       "      <td>NVIDIA's platform strategy brings together har...</td>\n",
       "      <td>NVIDIA has a platform strategy, bringing toget...</td>\n",
       "      <td>NVDA</td>\n",
       "      <td>2023_10K</td>\n",
       "    </tr>\n",
       "    <tr>\n",
       "      <th>4</th>\n",
       "      <td>What does NVIDIA's CUDA programming model enable?</td>\n",
       "      <td>NVIDIA's CUDA programming model opened the par...</td>\n",
       "      <td>With our introduction of the CUDA programming ...</td>\n",
       "      <td>NVDA</td>\n",
       "      <td>2023_10K</td>\n",
       "    </tr>\n",
       "  </tbody>\n",
       "</table>\n",
       "</div>"
      ],
      "text/plain": [
       "                                            question  \\\n",
       "0  What area did NVIDIA initially focus on before...   \n",
       "1  What are some of the recent applications of GP...   \n",
       "2  What significant invention did NVIDIA create i...   \n",
       "3  How does NVIDIA's platform strategy contribute...   \n",
       "4  What does NVIDIA's CUDA programming model enable?   \n",
       "\n",
       "                                              answer  \\\n",
       "0           NVIDIA initially focused on PC graphics.   \n",
       "1  Recent applications of GPU-powered deep learni...   \n",
       "2                   NVIDIA invented the GPU in 1999.   \n",
       "3  NVIDIA's platform strategy brings together har...   \n",
       "4  NVIDIA's CUDA programming model opened the par...   \n",
       "\n",
       "                                             context ticker    filing  \n",
       "0  Since our original focus on PC graphics, we ha...   NVDA  2023_10K  \n",
       "1  Some of the most recent applications of GPU-po...   NVDA  2023_10K  \n",
       "2  Our invention of the GPU in 1999 defined moder...   NVDA  2023_10K  \n",
       "3  NVIDIA has a platform strategy, bringing toget...   NVDA  2023_10K  \n",
       "4  With our introduction of the CUDA programming ...   NVDA  2023_10K  "
      ]
     },
     "execution_count": 55,
     "metadata": {},
     "output_type": "execute_result"
    }
   ],
   "source": [
    "df_combined.head()"
   ]
  },
  {
   "cell_type": "code",
   "execution_count": 56,
   "id": "28f3633d-1bf2-4853-8cda-8a52e6b17c2f",
   "metadata": {
    "tags": []
   },
   "outputs": [
    {
     "data": {
      "text/html": [
       "<div>\n",
       "<style scoped>\n",
       "    .dataframe tbody tr th:only-of-type {\n",
       "        vertical-align: middle;\n",
       "    }\n",
       "\n",
       "    .dataframe tbody tr th {\n",
       "        vertical-align: top;\n",
       "    }\n",
       "\n",
       "    .dataframe thead th {\n",
       "        text-align: right;\n",
       "    }\n",
       "</style>\n",
       "<table border=\"1\" class=\"dataframe\">\n",
       "  <thead>\n",
       "    <tr style=\"text-align: right;\">\n",
       "      <th></th>\n",
       "      <th>question</th>\n",
       "      <th>answer</th>\n",
       "      <th>context</th>\n",
       "      <th>ticker</th>\n",
       "      <th>filing</th>\n",
       "    </tr>\n",
       "  </thead>\n",
       "  <tbody>\n",
       "    <tr>\n",
       "      <th>7045</th>\n",
       "      <td>What asset allocation should I use for long-te...</td>\n",
       "      <td>For long-term wealth building, you might consi...</td>\n",
       "      <td>This system provides tailored financial advice...</td>\n",
       "      <td>UNKNOWN</td>\n",
       "      <td>N/A</td>\n",
       "    </tr>\n",
       "    <tr>\n",
       "      <th>7046</th>\n",
       "      <td>I’m concerned about market volatility. How can...</td>\n",
       "      <td>To mitigate market volatility, consider a 50/5...</td>\n",
       "      <td>This system provides tailored financial advice...</td>\n",
       "      <td>UNKNOWN</td>\n",
       "      <td>N/A</td>\n",
       "    </tr>\n",
       "    <tr>\n",
       "      <th>7047</th>\n",
       "      <td>I’m a young investor with a high appetite for ...</td>\n",
       "      <td>With a high risk tolerance and long horizon, a...</td>\n",
       "      <td>This system provides tailored financial advice...</td>\n",
       "      <td>UNKNOWN</td>\n",
       "      <td>N/A</td>\n",
       "    </tr>\n",
       "    <tr>\n",
       "      <th>7048</th>\n",
       "      <td>How should I allocate my assets if I want to f...</td>\n",
       "      <td>For capital preservation, a conservative alloc...</td>\n",
       "      <td>This system provides tailored financial advice...</td>\n",
       "      <td>UNKNOWN</td>\n",
       "      <td>N/A</td>\n",
       "    </tr>\n",
       "    <tr>\n",
       "      <th>7049</th>\n",
       "      <td>I’m interested in a strategy that combines gro...</td>\n",
       "      <td>A balanced strategy might include 50% in equit...</td>\n",
       "      <td>This system provides tailored financial advice...</td>\n",
       "      <td>UNKNOWN</td>\n",
       "      <td>N/A</td>\n",
       "    </tr>\n",
       "  </tbody>\n",
       "</table>\n",
       "</div>"
      ],
      "text/plain": [
       "                                               question  \\\n",
       "7045  What asset allocation should I use for long-te...   \n",
       "7046  I’m concerned about market volatility. How can...   \n",
       "7047  I’m a young investor with a high appetite for ...   \n",
       "7048  How should I allocate my assets if I want to f...   \n",
       "7049  I’m interested in a strategy that combines gro...   \n",
       "\n",
       "                                                 answer  \\\n",
       "7045  For long-term wealth building, you might consi...   \n",
       "7046  To mitigate market volatility, consider a 50/5...   \n",
       "7047  With a high risk tolerance and long horizon, a...   \n",
       "7048  For capital preservation, a conservative alloc...   \n",
       "7049  A balanced strategy might include 50% in equit...   \n",
       "\n",
       "                                                context   ticker filing  \n",
       "7045  This system provides tailored financial advice...  UNKNOWN    N/A  \n",
       "7046  This system provides tailored financial advice...  UNKNOWN    N/A  \n",
       "7047  This system provides tailored financial advice...  UNKNOWN    N/A  \n",
       "7048  This system provides tailored financial advice...  UNKNOWN    N/A  \n",
       "7049  This system provides tailored financial advice...  UNKNOWN    N/A  "
      ]
     },
     "execution_count": 56,
     "metadata": {},
     "output_type": "execute_result"
    }
   ],
   "source": [
    "df_combined.tail()"
   ]
  },
  {
   "cell_type": "code",
   "execution_count": 57,
   "id": "b3a3665b-a6f4-46b5-812a-4fa6513e30fc",
   "metadata": {
    "tags": []
   },
   "outputs": [],
   "source": [
    "hf_combined_dataset = Dataset.from_pandas(df_combined)"
   ]
  },
  {
   "cell_type": "code",
   "execution_count": 58,
   "id": "d1611e2f-de78-45f4-bb1d-151ed3c1b7c7",
   "metadata": {
    "tags": []
   },
   "outputs": [
    {
     "data": {
      "text/plain": [
       "{'question': ['What area did NVIDIA initially focus on before expanding to other computationally intensive fields?',\n",
       "  'What are some of the recent applications of GPU-powered deep learning as mentioned by NVIDIA?',\n",
       "  'What significant invention did NVIDIA create in 1999?',\n",
       "  \"How does NVIDIA's platform strategy contribute to the markets it serves?\",\n",
       "  \"What does NVIDIA's CUDA programming model enable?\"],\n",
       " 'answer': ['NVIDIA initially focused on PC graphics.',\n",
       "  'Recent applications of GPU-powered deep learning include recommendation systems, large language models, and generative AI.',\n",
       "  'NVIDIA invented the GPU in 1999.',\n",
       "  \"NVIDIA's platform strategy brings together hardware, systems, software, algorithms, libraries, and services to create unique value.\",\n",
       "  \"NVIDIA's CUDA programming model opened the parallel processing capabilities of GPUs for general purpose computing.\"],\n",
       " 'context': ['Since our original focus on PC graphics, we have expanded to several other large and important computationally intensive fields.',\n",
       "  'Some of the most recent applications of GPU-powered deep learning include recommendation systems, which are AI algorithms trained to understand the preferences, previous decisions, and characteristics of people and products using data gathered about their interactions, large language models, which can recognize, summarize, translate, predict and generate text and other content based on knowledge gained from massive datasets, and generative AI, which uses algorithms that create new content, including audio, code, images, text, simulations, and videos, based on the data they have been trained on.',\n",
       "  'Our invention of the GPU in 1999 defined modern computer graphics and established NVIDIA as the leader in computer graphics.',\n",
       "  'NVIDIA has a platform strategy, bringing together hardware, systems, software, algorithms, libraries, and services to create unique value for the markets we serve.',\n",
       "  'With our introduction of the CUDA programming model in 2006, we opened the parallel processing capabilities of our GPU for general purpose computing.'],\n",
       " 'ticker': ['NVDA', 'NVDA', 'NVDA', 'NVDA', 'NVDA'],\n",
       " 'filing': ['2023_10K', '2023_10K', '2023_10K', '2023_10K', '2023_10K']}"
      ]
     },
     "execution_count": 58,
     "metadata": {},
     "output_type": "execute_result"
    }
   ],
   "source": [
    "hf_combined_dataset[:5]"
   ]
  },
  {
   "cell_type": "code",
   "execution_count": 59,
   "id": "48094e70-d5f0-4254-8c99-56e05daf7501",
   "metadata": {
    "tags": []
   },
   "outputs": [
    {
     "data": {
      "text/html": [
       "<div>\n",
       "<style scoped>\n",
       "    .dataframe tbody tr th:only-of-type {\n",
       "        vertical-align: middle;\n",
       "    }\n",
       "\n",
       "    .dataframe tbody tr th {\n",
       "        vertical-align: top;\n",
       "    }\n",
       "\n",
       "    .dataframe thead th {\n",
       "        text-align: right;\n",
       "    }\n",
       "</style>\n",
       "<table border=\"1\" class=\"dataframe\">\n",
       "  <thead>\n",
       "    <tr style=\"text-align: right;\">\n",
       "      <th></th>\n",
       "      <th>question</th>\n",
       "      <th>answer</th>\n",
       "      <th>context</th>\n",
       "      <th>ticker</th>\n",
       "      <th>filing</th>\n",
       "    </tr>\n",
       "  </thead>\n",
       "  <tbody>\n",
       "    <tr>\n",
       "      <th>7045</th>\n",
       "      <td>What asset allocation should I use for long-te...</td>\n",
       "      <td>For long-term wealth building, you might consi...</td>\n",
       "      <td>This system provides tailored financial advice...</td>\n",
       "      <td>UNKNOWN</td>\n",
       "      <td>N/A</td>\n",
       "    </tr>\n",
       "    <tr>\n",
       "      <th>7046</th>\n",
       "      <td>I’m concerned about market volatility. How can...</td>\n",
       "      <td>To mitigate market volatility, consider a 50/5...</td>\n",
       "      <td>This system provides tailored financial advice...</td>\n",
       "      <td>UNKNOWN</td>\n",
       "      <td>N/A</td>\n",
       "    </tr>\n",
       "    <tr>\n",
       "      <th>7047</th>\n",
       "      <td>I’m a young investor with a high appetite for ...</td>\n",
       "      <td>With a high risk tolerance and long horizon, a...</td>\n",
       "      <td>This system provides tailored financial advice...</td>\n",
       "      <td>UNKNOWN</td>\n",
       "      <td>N/A</td>\n",
       "    </tr>\n",
       "    <tr>\n",
       "      <th>7048</th>\n",
       "      <td>How should I allocate my assets if I want to f...</td>\n",
       "      <td>For capital preservation, a conservative alloc...</td>\n",
       "      <td>This system provides tailored financial advice...</td>\n",
       "      <td>UNKNOWN</td>\n",
       "      <td>N/A</td>\n",
       "    </tr>\n",
       "    <tr>\n",
       "      <th>7049</th>\n",
       "      <td>I’m interested in a strategy that combines gro...</td>\n",
       "      <td>A balanced strategy might include 50% in equit...</td>\n",
       "      <td>This system provides tailored financial advice...</td>\n",
       "      <td>UNKNOWN</td>\n",
       "      <td>N/A</td>\n",
       "    </tr>\n",
       "  </tbody>\n",
       "</table>\n",
       "</div>"
      ],
      "text/plain": [
       "                                               question  \\\n",
       "7045  What asset allocation should I use for long-te...   \n",
       "7046  I’m concerned about market volatility. How can...   \n",
       "7047  I’m a young investor with a high appetite for ...   \n",
       "7048  How should I allocate my assets if I want to f...   \n",
       "7049  I’m interested in a strategy that combines gro...   \n",
       "\n",
       "                                                 answer  \\\n",
       "7045  For long-term wealth building, you might consi...   \n",
       "7046  To mitigate market volatility, consider a 50/5...   \n",
       "7047  With a high risk tolerance and long horizon, a...   \n",
       "7048  For capital preservation, a conservative alloc...   \n",
       "7049  A balanced strategy might include 50% in equit...   \n",
       "\n",
       "                                                context   ticker filing  \n",
       "7045  This system provides tailored financial advice...  UNKNOWN    N/A  \n",
       "7046  This system provides tailored financial advice...  UNKNOWN    N/A  \n",
       "7047  This system provides tailored financial advice...  UNKNOWN    N/A  \n",
       "7048  This system provides tailored financial advice...  UNKNOWN    N/A  \n",
       "7049  This system provides tailored financial advice...  UNKNOWN    N/A  "
      ]
     },
     "execution_count": 59,
     "metadata": {},
     "output_type": "execute_result"
    }
   ],
   "source": [
    "df_combined.tail()"
   ]
  },
  {
   "cell_type": "code",
   "execution_count": 60,
   "id": "73bed2b3-7fd5-4b73-9a69-2bec0843dbb9",
   "metadata": {
    "tags": []
   },
   "outputs": [],
   "source": [
    "with open('output.json', 'r') as f:\n",
    "    custom_data = json.load(f)"
   ]
  },
  {
   "cell_type": "code",
   "execution_count": 61,
   "id": "8ca5c369-7564-428a-8643-bb90a4cd9b01",
   "metadata": {
    "tags": []
   },
   "outputs": [],
   "source": [
    "for item in custom_data:\n",
    "    item['question'] = item.pop('user')\n",
    "    item['answer'] = item.pop('system')\n",
    "    item.setdefault('context', context_text)  # Assuming you might not have context\n",
    "    item.setdefault('ticker', 'UNKNOWN')  # Placeholder for ticker if not available\n",
    "    item.setdefault('filing', 'N/A')  # Placeholder for filing type if not available"
   ]
  },
  {
   "cell_type": "code",
   "execution_count": 62,
   "id": "57fa93a8-876d-4897-be0d-77742103831b",
   "metadata": {
    "tags": []
   },
   "outputs": [],
   "source": [
    "df_custom = pd.DataFrame(custom_data)"
   ]
  },
  {
   "cell_type": "code",
   "execution_count": 63,
   "id": "525226bd-078d-44a2-adaa-096b1f992c8a",
   "metadata": {
    "tags": []
   },
   "outputs": [
    {
     "data": {
      "text/html": [
       "<div>\n",
       "<style scoped>\n",
       "    .dataframe tbody tr th:only-of-type {\n",
       "        vertical-align: middle;\n",
       "    }\n",
       "\n",
       "    .dataframe tbody tr th {\n",
       "        vertical-align: top;\n",
       "    }\n",
       "\n",
       "    .dataframe thead th {\n",
       "        text-align: right;\n",
       "    }\n",
       "</style>\n",
       "<table border=\"1\" class=\"dataframe\">\n",
       "  <thead>\n",
       "    <tr style=\"text-align: right;\">\n",
       "      <th></th>\n",
       "      <th>question</th>\n",
       "      <th>answer</th>\n",
       "      <th>context</th>\n",
       "      <th>ticker</th>\n",
       "      <th>filing</th>\n",
       "    </tr>\n",
       "  </thead>\n",
       "  <tbody>\n",
       "    <tr>\n",
       "      <th>832</th>\n",
       "      <td>I want to invest in global markets for diversi...</td>\n",
       "      <td>Here’s the summary of your globally diversifie...</td>\n",
       "      <td>This system provides tailored financial advice...</td>\n",
       "      <td>UNKNOWN</td>\n",
       "      <td>N/A</td>\n",
       "    </tr>\n",
       "    <tr>\n",
       "      <th>833</th>\n",
       "      <td>I’m nearing retirement and want to minimize ri...</td>\n",
       "      <td>Here’s the summary of your low-risk, growth-or...</td>\n",
       "      <td>This system provides tailored financial advice...</td>\n",
       "      <td>UNKNOWN</td>\n",
       "      <td>N/A</td>\n",
       "    </tr>\n",
       "    <tr>\n",
       "      <th>834</th>\n",
       "      <td>I’m looking for a strategy that prioritizes in...</td>\n",
       "      <td>Here’s the summary of your income-focused stra...</td>\n",
       "      <td>This system provides tailored financial advice...</td>\n",
       "      <td>UNKNOWN</td>\n",
       "      <td>N/A</td>\n",
       "    </tr>\n",
       "    <tr>\n",
       "      <th>835</th>\n",
       "      <td>I’m interested in ethical investing with a foc...</td>\n",
       "      <td>Here’s the summary of your growth-oriented ESG...</td>\n",
       "      <td>This system provides tailored financial advice...</td>\n",
       "      <td>UNKNOWN</td>\n",
       "      <td>N/A</td>\n",
       "    </tr>\n",
       "    <tr>\n",
       "      <th>836</th>\n",
       "      <td>I’m looking to balance growth with income as I...</td>\n",
       "      <td>Here’s the summary of your balanced growth and...</td>\n",
       "      <td>This system provides tailored financial advice...</td>\n",
       "      <td>UNKNOWN</td>\n",
       "      <td>N/A</td>\n",
       "    </tr>\n",
       "  </tbody>\n",
       "</table>\n",
       "</div>"
      ],
      "text/plain": [
       "                                              question  \\\n",
       "832  I want to invest in global markets for diversi...   \n",
       "833  I’m nearing retirement and want to minimize ri...   \n",
       "834  I’m looking for a strategy that prioritizes in...   \n",
       "835  I’m interested in ethical investing with a foc...   \n",
       "836  I’m looking to balance growth with income as I...   \n",
       "\n",
       "                                                answer  \\\n",
       "832  Here’s the summary of your globally diversifie...   \n",
       "833  Here’s the summary of your low-risk, growth-or...   \n",
       "834  Here’s the summary of your income-focused stra...   \n",
       "835  Here’s the summary of your growth-oriented ESG...   \n",
       "836  Here’s the summary of your balanced growth and...   \n",
       "\n",
       "                                               context   ticker filing  \n",
       "832  This system provides tailored financial advice...  UNKNOWN    N/A  \n",
       "833  This system provides tailored financial advice...  UNKNOWN    N/A  \n",
       "834  This system provides tailored financial advice...  UNKNOWN    N/A  \n",
       "835  This system provides tailored financial advice...  UNKNOWN    N/A  \n",
       "836  This system provides tailored financial advice...  UNKNOWN    N/A  "
      ]
     },
     "execution_count": 63,
     "metadata": {},
     "output_type": "execute_result"
    }
   ],
   "source": [
    "df_custom.tail()"
   ]
  },
  {
   "cell_type": "code",
   "execution_count": 64,
   "id": "b0237f5e-d902-4dbf-97e4-ef9d5ac66652",
   "metadata": {
    "tags": []
   },
   "outputs": [],
   "source": [
    "df_combined = pd.concat([df_combined, df_custom], ignore_index=True)"
   ]
  },
  {
   "cell_type": "code",
   "execution_count": 65,
   "id": "a7530b15-da96-452d-80c8-ad35fbdb93f9",
   "metadata": {
    "tags": []
   },
   "outputs": [
    {
     "data": {
      "text/html": [
       "<div>\n",
       "<style scoped>\n",
       "    .dataframe tbody tr th:only-of-type {\n",
       "        vertical-align: middle;\n",
       "    }\n",
       "\n",
       "    .dataframe tbody tr th {\n",
       "        vertical-align: top;\n",
       "    }\n",
       "\n",
       "    .dataframe thead th {\n",
       "        text-align: right;\n",
       "    }\n",
       "</style>\n",
       "<table border=\"1\" class=\"dataframe\">\n",
       "  <thead>\n",
       "    <tr style=\"text-align: right;\">\n",
       "      <th></th>\n",
       "      <th>question</th>\n",
       "      <th>answer</th>\n",
       "      <th>context</th>\n",
       "      <th>ticker</th>\n",
       "      <th>filing</th>\n",
       "    </tr>\n",
       "  </thead>\n",
       "  <tbody>\n",
       "    <tr>\n",
       "      <th>7882</th>\n",
       "      <td>I want to invest in global markets for diversi...</td>\n",
       "      <td>Here’s the summary of your globally diversifie...</td>\n",
       "      <td>This system provides tailored financial advice...</td>\n",
       "      <td>UNKNOWN</td>\n",
       "      <td>N/A</td>\n",
       "    </tr>\n",
       "    <tr>\n",
       "      <th>7883</th>\n",
       "      <td>I’m nearing retirement and want to minimize ri...</td>\n",
       "      <td>Here’s the summary of your low-risk, growth-or...</td>\n",
       "      <td>This system provides tailored financial advice...</td>\n",
       "      <td>UNKNOWN</td>\n",
       "      <td>N/A</td>\n",
       "    </tr>\n",
       "    <tr>\n",
       "      <th>7884</th>\n",
       "      <td>I’m looking for a strategy that prioritizes in...</td>\n",
       "      <td>Here’s the summary of your income-focused stra...</td>\n",
       "      <td>This system provides tailored financial advice...</td>\n",
       "      <td>UNKNOWN</td>\n",
       "      <td>N/A</td>\n",
       "    </tr>\n",
       "    <tr>\n",
       "      <th>7885</th>\n",
       "      <td>I’m interested in ethical investing with a foc...</td>\n",
       "      <td>Here’s the summary of your growth-oriented ESG...</td>\n",
       "      <td>This system provides tailored financial advice...</td>\n",
       "      <td>UNKNOWN</td>\n",
       "      <td>N/A</td>\n",
       "    </tr>\n",
       "    <tr>\n",
       "      <th>7886</th>\n",
       "      <td>I’m looking to balance growth with income as I...</td>\n",
       "      <td>Here’s the summary of your balanced growth and...</td>\n",
       "      <td>This system provides tailored financial advice...</td>\n",
       "      <td>UNKNOWN</td>\n",
       "      <td>N/A</td>\n",
       "    </tr>\n",
       "  </tbody>\n",
       "</table>\n",
       "</div>"
      ],
      "text/plain": [
       "                                               question  \\\n",
       "7882  I want to invest in global markets for diversi...   \n",
       "7883  I’m nearing retirement and want to minimize ri...   \n",
       "7884  I’m looking for a strategy that prioritizes in...   \n",
       "7885  I’m interested in ethical investing with a foc...   \n",
       "7886  I’m looking to balance growth with income as I...   \n",
       "\n",
       "                                                 answer  \\\n",
       "7882  Here’s the summary of your globally diversifie...   \n",
       "7883  Here’s the summary of your low-risk, growth-or...   \n",
       "7884  Here’s the summary of your income-focused stra...   \n",
       "7885  Here’s the summary of your growth-oriented ESG...   \n",
       "7886  Here’s the summary of your balanced growth and...   \n",
       "\n",
       "                                                context   ticker filing  \n",
       "7882  This system provides tailored financial advice...  UNKNOWN    N/A  \n",
       "7883  This system provides tailored financial advice...  UNKNOWN    N/A  \n",
       "7884  This system provides tailored financial advice...  UNKNOWN    N/A  \n",
       "7885  This system provides tailored financial advice...  UNKNOWN    N/A  \n",
       "7886  This system provides tailored financial advice...  UNKNOWN    N/A  "
      ]
     },
     "execution_count": 65,
     "metadata": {},
     "output_type": "execute_result"
    }
   ],
   "source": [
    "df_combined.tail()"
   ]
  },
  {
   "cell_type": "code",
   "execution_count": 66,
   "id": "8c755bd6-ff9b-4d32-8a39-5ac0a707a417",
   "metadata": {
    "tags": []
   },
   "outputs": [],
   "source": [
    "df_combined.to_csv('combined_financial_dataset.csv', index=False)"
   ]
  },
  {
   "cell_type": "code",
   "execution_count": 67,
   "id": "f78d4f2a-68b7-4ede-aaac-443a4ea13b50",
   "metadata": {
    "tags": []
   },
   "outputs": [],
   "source": [
    "hf_combined_dataset = Dataset.from_pandas(df_combined)"
   ]
  },
  {
   "cell_type": "code",
   "execution_count": 68,
   "id": "fd5504ba-2e09-4899-9558-e1f78fe1cb50",
   "metadata": {
    "tags": []
   },
   "outputs": [
    {
     "data": {
      "text/plain": [
       "7887"
      ]
     },
     "execution_count": 68,
     "metadata": {},
     "output_type": "execute_result"
    }
   ],
   "source": [
    "len(hf_combined_dataset)"
   ]
  },
  {
   "cell_type": "code",
   "execution_count": 69,
   "id": "3d6694aa-2457-4ae6-8cc4-22dc00089102",
   "metadata": {
    "tags": []
   },
   "outputs": [],
   "source": [
    "dataset_repo_name = \"shashankyadav03/asset-investment-financial-dataset\"\n"
   ]
  },
  {
   "cell_type": "code",
   "execution_count": 70,
   "id": "11250663-9e6f-4ab6-b4d9-44f664da95b0",
   "metadata": {
    "tags": []
   },
   "outputs": [
    {
     "name": "stderr",
     "output_type": "stream",
     "text": [
      "Uploading the dataset shards:   0%|          | 0/1 [00:00<?, ?it/s]\n",
      "Creating parquet from Arrow format: 100%|██████████| 8/8 [00:00<00:00, 301.21ba/s]\n",
      "Uploading the dataset shards: 100%|██████████| 1/1 [00:00<00:00,  1.44it/s]\n"
     ]
    },
    {
     "data": {
      "text/plain": [
       "CommitInfo(commit_url='https://huggingface.co/datasets/shashankyadav03/asset-investment-financial-dataset/commit/38d077b597a7e799a09f4e38d16e6a3000c535b3', commit_message='Upload dataset', commit_description='', oid='38d077b597a7e799a09f4e38d16e6a3000c535b3', pr_url=None, pr_revision=None, pr_num=None)"
      ]
     },
     "execution_count": 70,
     "metadata": {},
     "output_type": "execute_result"
    }
   ],
   "source": [
    "hf_combined_dataset.push_to_hub(dataset_repo_name)"
   ]
  },
  {
   "cell_type": "code",
   "execution_count": null,
   "id": "dd1f4190-9a97-4ea3-b584-0659572e5362",
   "metadata": {},
   "outputs": [],
   "source": []
  }
 ],
 "metadata": {
  "kernelspec": {
   "display_name": "Python (finetune)",
   "language": "python",
   "name": "finetune"
  },
  "language_info": {
   "codemirror_mode": {
    "name": "ipython",
    "version": 3
   },
   "file_extension": ".py",
   "mimetype": "text/x-python",
   "name": "python",
   "nbconvert_exporter": "python",
   "pygments_lexer": "ipython3",
   "version": "3.10.13"
  }
 },
 "nbformat": 4,
 "nbformat_minor": 5
}
