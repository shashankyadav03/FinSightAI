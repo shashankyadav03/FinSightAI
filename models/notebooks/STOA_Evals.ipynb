{
 "cells": [
  {
   "cell_type": "code",
   "execution_count": 1,
   "id": "1fc782f1-7a48-4ee0-b808-88636412bd86",
   "metadata": {
    "tags": []
   },
   "outputs": [],
   "source": [
    "# Test evalutions"
   ]
  },
  {
   "cell_type": "code",
   "execution_count": 2,
   "id": "28f4b6cc-0c28-409d-a7ac-03fc5840b3ba",
   "metadata": {
    "tags": []
   },
   "outputs": [
    {
     "name": "stderr",
     "output_type": "stream",
     "text": [
      "/home/jovyan/FinSightAI-Shashank/Virtual/FinSightAI/FinDecide/Test/Test3/finetune/lib/python3.10/site-packages/tqdm/auto.py:21: TqdmWarning: IProgress not found. Please update jupyter and ipywidgets. See https://ipywidgets.readthedocs.io/en/stable/user_install.html\n",
      "  from .autonotebook import tqdm as notebook_tqdm\n"
     ]
    }
   ],
   "source": [
    "import torch\n",
    "from transformers import AutoTokenizer, AutoModel\n",
    "import pandas as pd\n",
    "import numpy as np\n",
    "from sklearn.metrics import precision_score, recall_score, f1_score, accuracy_score"
   ]
  },
  {
   "cell_type": "code",
   "execution_count": 118,
   "id": "501f1543-0871-4969-b3b4-cbf7022d076a",
   "metadata": {
    "tags": []
   },
   "outputs": [],
   "source": [
    "from nltk.translate.bleu_score import sentence_bleu, SmoothingFunction\n",
    "from rouge import Rouge\n",
    "from tqdm import tqdm"
   ]
  },
  {
   "cell_type": "code",
   "execution_count": 161,
   "id": "c0d5a1dd-19fb-4cff-923b-4fdc6c3d3396",
   "metadata": {
    "tags": []
   },
   "outputs": [
    {
     "name": "stderr",
     "output_type": "stream",
     "text": [
      "/home/jovyan/FinSightAI-Shashank/Virtual/FinSightAI/FinDecide/Test/Test3/finetune/lib/python3.10/site-packages/transformers/tokenization_utils_base.py:1601: FutureWarning: `clean_up_tokenization_spaces` was not set. It will be set to `True` by default. This behavior will be depracted in transformers v4.45, and will be then set to `False` by default. For more details check this issue: https://github.com/huggingface/transformers/issues/31884\n",
      "  warnings.warn(\n"
     ]
    }
   ],
   "source": [
    "# Load the model and tokenizer, and move the model to the GPU\n",
    "model_name = 'sentence-transformers/all-MiniLM-L6-v2'\n",
    "tokenizer = AutoTokenizer.from_pretrained(model_name)\n",
    "model = AutoModel.from_pretrained(model_name).to('cuda')\n",
    "\n",
    "# Define cosine similarity function\n",
    "def cosine_similarity(a, b):\n",
    "    return np.dot(a, b) / (np.linalg.norm(a) * np.linalg.norm(b))\n",
    "\n",
    "# Function to get embeddings on GPU\n",
    "def get_embeddings(texts, batch_size=32):\n",
    "    embeddings = []\n",
    "    with torch.no_grad():\n",
    "        for i in range(0, len(texts), batch_size):\n",
    "            batch = texts[i:i + batch_size]\n",
    "            tokens = tokenizer(batch, padding=True, truncation=True, return_tensors='pt').to('cuda')\n",
    "            outputs = model(**tokens)\n",
    "            batch_embeddings = outputs.last_hidden_state.mean(dim=1).cpu().numpy()\n",
    "            embeddings.extend(batch_embeddings)\n",
    "    return embeddings\n",
    "\n",
    "# Function to calculate embeddings for all texts\n",
    "def calculate_embeddings(df):\n",
    "    df['untrained_embedding'] = get_embeddings(df['untrained_prediction'].tolist())\n",
    "    df['trained_embedding'] = get_embeddings(df['trained_prediction'].tolist())\n",
    "    df['answer_embedding'] = get_embeddings(df['answer'].tolist())\n",
    "    df['google_gemma_prediction'] = get_embeddings(df['google_gemma_prediction'].tolist())\n",
    "    return df"
   ]
  },
  {
   "cell_type": "code",
   "execution_count": 9,
   "id": "f8c20dfd-609c-4f45-bcf1-2d31f2ad8fd0",
   "metadata": {
    "tags": []
   },
   "outputs": [
    {
     "data": {
      "text/html": [
       "<div>\n",
       "<style scoped>\n",
       "    .dataframe tbody tr th:only-of-type {\n",
       "        vertical-align: middle;\n",
       "    }\n",
       "\n",
       "    .dataframe tbody tr th {\n",
       "        vertical-align: top;\n",
       "    }\n",
       "\n",
       "    .dataframe thead th {\n",
       "        text-align: right;\n",
       "    }\n",
       "</style>\n",
       "<table border=\"1\" class=\"dataframe\">\n",
       "  <thead>\n",
       "    <tr style=\"text-align: right;\">\n",
       "      <th></th>\n",
       "      <th>question</th>\n",
       "      <th>context</th>\n",
       "      <th>prompt</th>\n",
       "      <th>answer</th>\n",
       "      <th>untrained_prediction</th>\n",
       "      <th>trained_prediction</th>\n",
       "    </tr>\n",
       "  </thead>\n",
       "  <tbody>\n",
       "    <tr>\n",
       "      <th>0</th>\n",
       "      <td>How does sector rotation work?</td>\n",
       "      <td>This system provides tailored financial advice...</td>\n",
       "      <td>&lt;|begin_of_text|&gt;&lt;|start_header_id|&gt;system&lt;|en...</td>\n",
       "      <td>Sector rotation involves shifting investments ...</td>\n",
       "      <td>The text does not provide information on secto...</td>\n",
       "      <td>Sector rotation involves shifting investments ...</td>\n",
       "    </tr>\n",
       "    <tr>\n",
       "      <th>1</th>\n",
       "      <td>What are the benefits of investing in the luxu...</td>\n",
       "      <td>This system provides tailored financial advice...</td>\n",
       "      <td>&lt;|begin_of_text|&gt;&lt;|start_header_id|&gt;system&lt;|en...</td>\n",
       "      <td>The luxury goods market caters to affluent con...</td>\n",
       "      <td>The provided information does not mention the ...</td>\n",
       "      <td>The luxury goods market, which includes high-e...</td>\n",
       "    </tr>\n",
       "    <tr>\n",
       "      <th>2</th>\n",
       "      <td>What were the book value and fair value of Gen...</td>\n",
       "      <td>We own certain corporate debt securities of Ge...</td>\n",
       "      <td>&lt;|begin_of_text|&gt;&lt;|start_header_id|&gt;system&lt;|en...</td>\n",
       "      <td>The book value was $379 million and the fair v...</td>\n",
       "      <td>The book value of Gentiva Hospice's corporate ...</td>\n",
       "      <td>The book value of Gentiva Hospice’s corporate ...</td>\n",
       "    </tr>\n",
       "    <tr>\n",
       "      <th>3</th>\n",
       "      <td>What was the total value of the aggregate tran...</td>\n",
       "      <td>On September 5, 2023, we acquired Black Knight...</td>\n",
       "      <td>&lt;|begin_of_text|&gt;&lt;|start_header_id|&gt;system&lt;|en...</td>\n",
       "      <td>The total value of the aggregate transaction f...</td>\n",
       "      <td>The total value of the aggregate transaction f...</td>\n",
       "      <td>The total value of the aggregate transaction f...</td>\n",
       "    </tr>\n",
       "    <tr>\n",
       "      <th>4</th>\n",
       "      <td>Should I consider investing in companies with ...</td>\n",
       "      <td>This system provides tailored financial advice...</td>\n",
       "      <td>&lt;|begin_of_text|&gt;&lt;|start_header_id|&gt;system&lt;|en...</td>\n",
       "      <td>Companies with high market share often enjoy c...</td>\n",
       "      <td>The provided information does not directly ans...</td>\n",
       "      <td>High market share companies tend to be more st...</td>\n",
       "    </tr>\n",
       "  </tbody>\n",
       "</table>\n",
       "</div>"
      ],
      "text/plain": [
       "                                            question  \\\n",
       "0                     How does sector rotation work?   \n",
       "1  What are the benefits of investing in the luxu...   \n",
       "2  What were the book value and fair value of Gen...   \n",
       "3  What was the total value of the aggregate tran...   \n",
       "4  Should I consider investing in companies with ...   \n",
       "\n",
       "                                             context  \\\n",
       "0  This system provides tailored financial advice...   \n",
       "1  This system provides tailored financial advice...   \n",
       "2  We own certain corporate debt securities of Ge...   \n",
       "3  On September 5, 2023, we acquired Black Knight...   \n",
       "4  This system provides tailored financial advice...   \n",
       "\n",
       "                                              prompt  \\\n",
       "0  <|begin_of_text|><|start_header_id|>system<|en...   \n",
       "1  <|begin_of_text|><|start_header_id|>system<|en...   \n",
       "2  <|begin_of_text|><|start_header_id|>system<|en...   \n",
       "3  <|begin_of_text|><|start_header_id|>system<|en...   \n",
       "4  <|begin_of_text|><|start_header_id|>system<|en...   \n",
       "\n",
       "                                              answer  \\\n",
       "0  Sector rotation involves shifting investments ...   \n",
       "1  The luxury goods market caters to affluent con...   \n",
       "2  The book value was $379 million and the fair v...   \n",
       "3  The total value of the aggregate transaction f...   \n",
       "4  Companies with high market share often enjoy c...   \n",
       "\n",
       "                                untrained_prediction  \\\n",
       "0  The text does not provide information on secto...   \n",
       "1  The provided information does not mention the ...   \n",
       "2  The book value of Gentiva Hospice's corporate ...   \n",
       "3  The total value of the aggregate transaction f...   \n",
       "4  The provided information does not directly ans...   \n",
       "\n",
       "                                  trained_prediction  \n",
       "0  Sector rotation involves shifting investments ...  \n",
       "1  The luxury goods market, which includes high-e...  \n",
       "2  The book value of Gentiva Hospice’s corporate ...  \n",
       "3  The total value of the aggregate transaction f...  \n",
       "4  High market share companies tend to be more st...  "
      ]
     },
     "execution_count": 9,
     "metadata": {},
     "output_type": "execute_result"
    }
   ],
   "source": [
    "# Load the dataset\n",
    "df = pd.read_csv('predictions.csv')\n",
    "df.head()"
   ]
  },
  {
   "cell_type": "code",
   "execution_count": 162,
   "id": "9cf7ec41-b496-4f51-b395-0c063fb4b3f0",
   "metadata": {
    "tags": []
   },
   "outputs": [],
   "source": []
  },
  {
   "cell_type": "code",
   "execution_count": 163,
   "id": "f437e514-776c-4abc-b237-e006540c2ac3",
   "metadata": {
    "tags": []
   },
   "outputs": [
    {
     "name": "stdout",
     "output_type": "stream",
     "text": [
      "Untrained Model - Precision: 100.00%, Recall: 53.00%, F1 Score: 69.28%, Accuracy: 53.00%\n",
      "Trained Model - Precision: 100.00%, Recall: 71.00%, F1 Score: 83.04%, Accuracy: 71.00%\n",
      "Trained Model - Precision: 0.00%, Recall: 0.00%, F1 Score: 0.00%, Accuracy: 0.00%\n"
     ]
    },
    {
     "name": "stderr",
     "output_type": "stream",
     "text": [
      "/home/jovyan/FinSightAI-Shashank/Virtual/FinSightAI/FinDecide/Test/Test3/finetune/lib/python3.10/site-packages/sklearn/metrics/_classification.py:1531: UndefinedMetricWarning: Precision is ill-defined and being set to 0.0 due to no predicted samples. Use `zero_division` parameter to control this behavior.\n",
      "  _warn_prf(average, modifier, f\"{metric.capitalize()} is\", len(result))\n"
     ]
    }
   ],
   "source": [
    "# Function to calculate precision, recall, F1 score, and accuracy\n",
    "df = calculate_embeddings(df)\n",
    "def calculate_metrics(predictions, answers, threshold=0.8):\n",
    "    similarity_scores = [\n",
    "        cosine_similarity(pred_embedding, ans_embedding)\n",
    "        for pred_embedding, ans_embedding in zip(predictions, answers)\n",
    "    ]\n",
    "    \n",
    "    y_true = np.ones(len(answers))  # Ground truth: all answers are positive\n",
    "    y_pred = np.array([1 if score >= threshold else 0 for score in similarity_scores])\n",
    "\n",
    "    precision = precision_score(y_true, y_pred)\n",
    "    recall = recall_score(y_true, y_pred)\n",
    "    f1 = f1_score(y_true, y_pred)\n",
    "    accuracy = accuracy_score(y_true, y_pred)\n",
    "    \n",
    "    return precision, recall, f1, accuracy\n",
    "\n",
    "# Calculate metrics for untrained predictions\n",
    "untrained_metrics = calculate_metrics(df['untrained_embedding'], df['answer_embedding'], threshold=0.8)\n",
    "print(f'Untrained Model - Precision: {untrained_metrics[0]:.2%}, Recall: {untrained_metrics[1]:.2%}, F1 Score: {untrained_metrics[2]:.2%}, Accuracy: {untrained_metrics[3]:.2%}')\n",
    "\n",
    "# Calculate metrics for trained predictions\n",
    "trained_metrics = calculate_metrics(df['trained_embedding'], df['answer_embedding'], threshold=0.8)\n",
    "print(f'Trained Model - Precision: {trained_metrics[0]:.2%}, Recall: {trained_metrics[1]:.2%}, F1 Score: {trained_metrics[2]:.2%}, Accuracy: {trained_metrics[3]:.2%}')\n",
    "\n",
    "trained_metrics = calculate_metrics(df['google_gemma_prediction'], df['answer_embedding'], threshold=0.8)\n",
    "print(f'Trained Model - Precision: {trained_metrics[0]:.2%}, Recall: {trained_metrics[1]:.2%}, F1 Score: {trained_metrics[2]:.2%}, Accuracy: {trained_metrics[3]:.2%}')\n"
   ]
  },
  {
   "cell_type": "code",
   "execution_count": 31,
   "id": "0ba70257-f11c-4776-bbfa-f75556977bd9",
   "metadata": {
    "tags": []
   },
   "outputs": [],
   "source": [
    "def calculate_text_metrics(predictions, answers):\n",
    "    # Setting up the Rouge and Bleu configuration\n",
    "    rouge = Rouge()\n",
    "    smoothie = SmoothingFunction().method1  # Choose method1 for smoothing as an example\n",
    "\n",
    "    # Calculating BLEU scores with smoothing\n",
    "    bleu_scores = [\n",
    "        sentence_bleu([ans.split()], pred.split(), smoothing_function=smoothie)\n",
    "        for pred, ans in zip(predictions, answers)\n",
    "    ]\n",
    "\n",
    "    # Calculating ROUGE scores, specifically focusing on ROUGE-L\n",
    "    rouge_scores = [rouge.get_scores(pred, ans, avg=True)['rouge-l'] for pred, ans in zip(predictions, answers)]\n",
    "\n",
    "    # Average scores for metrics\n",
    "    avg_bleu = np.mean(bleu_scores)\n",
    "    avg_rouge_l_f1 = np.mean([score['f'] for score in rouge_scores])  # Focusing on the F1 score of ROUGE-L\n",
    "\n",
    "    return avg_bleu, avg_rouge_l_f1"
   ]
  },
  {
   "cell_type": "code",
   "execution_count": 196,
   "id": "20dba1e0-e757-4225-9244-8113c7bcd476",
   "metadata": {
    "tags": []
   },
   "outputs": [
    {
     "data": {
      "text/html": [
       "<div>\n",
       "<style scoped>\n",
       "    .dataframe tbody tr th:only-of-type {\n",
       "        vertical-align: middle;\n",
       "    }\n",
       "\n",
       "    .dataframe tbody tr th {\n",
       "        vertical-align: top;\n",
       "    }\n",
       "\n",
       "    .dataframe thead th {\n",
       "        text-align: right;\n",
       "    }\n",
       "</style>\n",
       "<table border=\"1\" class=\"dataframe\">\n",
       "  <thead>\n",
       "    <tr style=\"text-align: right;\">\n",
       "      <th></th>\n",
       "      <th>question</th>\n",
       "      <th>context</th>\n",
       "      <th>prompt</th>\n",
       "      <th>answer</th>\n",
       "      <th>untrained_prediction</th>\n",
       "      <th>trained_prediction</th>\n",
       "    </tr>\n",
       "  </thead>\n",
       "  <tbody>\n",
       "    <tr>\n",
       "      <th>0</th>\n",
       "      <td>How does sector rotation work?</td>\n",
       "      <td>This system provides tailored financial advice...</td>\n",
       "      <td>&lt;|begin_of_text|&gt;&lt;|start_header_id|&gt;system&lt;|en...</td>\n",
       "      <td>Sector rotation involves shifting investments ...</td>\n",
       "      <td>The text does not provide information on secto...</td>\n",
       "      <td>Sector rotation involves shifting investments ...</td>\n",
       "    </tr>\n",
       "    <tr>\n",
       "      <th>1</th>\n",
       "      <td>What are the benefits of investing in the luxu...</td>\n",
       "      <td>This system provides tailored financial advice...</td>\n",
       "      <td>&lt;|begin_of_text|&gt;&lt;|start_header_id|&gt;system&lt;|en...</td>\n",
       "      <td>The luxury goods market caters to affluent con...</td>\n",
       "      <td>The provided information does not mention the ...</td>\n",
       "      <td>The luxury goods market, which includes high-e...</td>\n",
       "    </tr>\n",
       "    <tr>\n",
       "      <th>2</th>\n",
       "      <td>What were the book value and fair value of Gen...</td>\n",
       "      <td>We own certain corporate debt securities of Ge...</td>\n",
       "      <td>&lt;|begin_of_text|&gt;&lt;|start_header_id|&gt;system&lt;|en...</td>\n",
       "      <td>The book value was $379 million and the fair v...</td>\n",
       "      <td>The book value of Gentiva Hospice's corporate ...</td>\n",
       "      <td>The book value of Gentiva Hospice’s corporate ...</td>\n",
       "    </tr>\n",
       "    <tr>\n",
       "      <th>3</th>\n",
       "      <td>What was the total value of the aggregate tran...</td>\n",
       "      <td>On September 5, 2023, we acquired Black Knight...</td>\n",
       "      <td>&lt;|begin_of_text|&gt;&lt;|start_header_id|&gt;system&lt;|en...</td>\n",
       "      <td>The total value of the aggregate transaction f...</td>\n",
       "      <td>The total value of the aggregate transaction f...</td>\n",
       "      <td>The total value of the aggregate transaction f...</td>\n",
       "    </tr>\n",
       "    <tr>\n",
       "      <th>4</th>\n",
       "      <td>Should I consider investing in companies with ...</td>\n",
       "      <td>This system provides tailored financial advice...</td>\n",
       "      <td>&lt;|begin_of_text|&gt;&lt;|start_header_id|&gt;system&lt;|en...</td>\n",
       "      <td>Companies with high market share often enjoy c...</td>\n",
       "      <td>The provided information does not directly ans...</td>\n",
       "      <td>High market share companies tend to be more st...</td>\n",
       "    </tr>\n",
       "  </tbody>\n",
       "</table>\n",
       "</div>"
      ],
      "text/plain": [
       "                                            question  \\\n",
       "0                     How does sector rotation work?   \n",
       "1  What are the benefits of investing in the luxu...   \n",
       "2  What were the book value and fair value of Gen...   \n",
       "3  What was the total value of the aggregate tran...   \n",
       "4  Should I consider investing in companies with ...   \n",
       "\n",
       "                                             context  \\\n",
       "0  This system provides tailored financial advice...   \n",
       "1  This system provides tailored financial advice...   \n",
       "2  We own certain corporate debt securities of Ge...   \n",
       "3  On September 5, 2023, we acquired Black Knight...   \n",
       "4  This system provides tailored financial advice...   \n",
       "\n",
       "                                              prompt  \\\n",
       "0  <|begin_of_text|><|start_header_id|>system<|en...   \n",
       "1  <|begin_of_text|><|start_header_id|>system<|en...   \n",
       "2  <|begin_of_text|><|start_header_id|>system<|en...   \n",
       "3  <|begin_of_text|><|start_header_id|>system<|en...   \n",
       "4  <|begin_of_text|><|start_header_id|>system<|en...   \n",
       "\n",
       "                                              answer  \\\n",
       "0  Sector rotation involves shifting investments ...   \n",
       "1  The luxury goods market caters to affluent con...   \n",
       "2  The book value was $379 million and the fair v...   \n",
       "3  The total value of the aggregate transaction f...   \n",
       "4  Companies with high market share often enjoy c...   \n",
       "\n",
       "                                untrained_prediction  \\\n",
       "0  The text does not provide information on secto...   \n",
       "1  The provided information does not mention the ...   \n",
       "2  The book value of Gentiva Hospice's corporate ...   \n",
       "3  The total value of the aggregate transaction f...   \n",
       "4  The provided information does not directly ans...   \n",
       "\n",
       "                                  trained_prediction  \n",
       "0  Sector rotation involves shifting investments ...  \n",
       "1  The luxury goods market, which includes high-e...  \n",
       "2  The book value of Gentiva Hospice’s corporate ...  \n",
       "3  The total value of the aggregate transaction f...  \n",
       "4  High market share companies tend to be more st...  "
      ]
     },
     "execution_count": 196,
     "metadata": {},
     "output_type": "execute_result"
    }
   ],
   "source": [
    "# Load the dataset\n",
    "df = pd.read_csv('predictions.csv')\n",
    "df.head()"
   ]
  },
  {
   "cell_type": "code",
   "execution_count": 33,
   "id": "0f446817-8e06-488d-a8cb-48760cf0ecc7",
   "metadata": {
    "tags": []
   },
   "outputs": [
    {
     "name": "stdout",
     "output_type": "stream",
     "text": [
      "Trained Result - BLEU Score: 29.90%, ROUGE-L F1 Score: 59.00%\n",
      "Untrained Result - BLEU Score: 17.94%, ROUGE-L F1 Score: 44.57%\n"
     ]
    }
   ],
   "source": [
    "bleu_score, rouge_l_f1 = calculate_text_metrics(df['trained_prediction'], df['answer'])\n",
    "bleu_score1, rouge_l_f1_1 = calculate_text_metrics(df['untrained_prediction'], df['answer'])\n",
    "print(f'Trained Result - BLEU Score: {bleu_score:.2%}, ROUGE-L F1 Score: {rouge_l_f1:.2%}')\n",
    "print(f'Untrained Result - BLEU Score: {bleu_score1:.2%}, ROUGE-L F1 Score: {rouge_l_f1_1:.2%}')"
   ]
  },
  {
   "cell_type": "code",
   "execution_count": 95,
   "id": "532287c6-0102-46ce-8015-80a27fd38689",
   "metadata": {
    "tags": []
   },
   "outputs": [],
   "source": [
    "from transformers import (\n",
    "    AutoModelForCausalLM,\n",
    "    AutoTokenizer,\n",
    "    pipeline,\n",
    ")\n",
    "import torch"
   ]
  },
  {
   "cell_type": "code",
   "execution_count": 96,
   "id": "e2d8aea5-2703-4d8b-9763-3d163e615015",
   "metadata": {
    "tags": []
   },
   "outputs": [],
   "source": [
    "from datasets import Dataset, load_dataset\n",
    "from textwrap import dedent"
   ]
  },
  {
   "cell_type": "code",
   "execution_count": 98,
   "id": "e6c1ea24-d3cc-456b-86f0-7c213d7f2f15",
   "metadata": {
    "tags": []
   },
   "outputs": [
    {
     "name": "stdout",
     "output_type": "stream",
     "text": [
      "The token has not been saved to the git credentials helper. Pass `add_to_git_credential=True` in this function directly or `--add-to-git-credential` if using via `huggingface-cli` if you want to set the git credential as well.\n",
      "Token is valid (permission: fineGrained).\n",
      "Your token has been saved to /home/jovyan/.cache/huggingface/token\n",
      "Login successful\n"
     ]
    }
   ],
   "source": [
    "from huggingface_hub import login\n",
    "login(token=\"hf-xxx\")"
   ]
  },
  {
   "cell_type": "code",
   "execution_count": 99,
   "id": "f2e99a29-c7c3-42af-8de0-efae99889854",
   "metadata": {
    "tags": []
   },
   "outputs": [
    {
     "name": "stderr",
     "output_type": "stream",
     "text": [
      "Downloading shards: 100%|██████████| 2/2 [00:27<00:00, 13.54s/it]\n",
      "Loading checkpoint shards: 100%|██████████| 2/2 [00:10<00:00,  5.26s/it]\n"
     ]
    }
   ],
   "source": [
    "# Model name for the tokenizer and model\n",
    "MODEL_NAME = \"google/gemma-2-2b-it\"\n",
    "\n",
    "# Initialize the tokenizer\n",
    "tokenizer = AutoTokenizer.from_pretrained(MODEL_NAME)\n",
    "\n",
    "# Load the model with quantization config, ensure to specify the correct class\n",
    "model = AutoModelForCausalLM.from_pretrained(\n",
    "    MODEL_NAME\n",
    ")"
   ]
  },
  {
   "cell_type": "code",
   "execution_count": 100,
   "id": "27d5d409-1f35-4eb3-8093-5430615adfcb",
   "metadata": {
    "tags": []
   },
   "outputs": [],
   "source": [
    "\n",
    "pipe = pipeline(\n",
    "    task=\"text-generation\",\n",
    "    model=model,\n",
    "    tokenizer=tokenizer,\n",
    "    max_new_tokens=512,\n",
    "    return_full_text=False,\n",
    "    device = \"cuda\"\n",
    ")"
   ]
  },
  {
   "cell_type": "code",
   "execution_count": 199,
   "id": "93f356cb-4379-490b-8e4a-542145e2aae2",
   "metadata": {
    "tags": []
   },
   "outputs": [
    {
     "data": {
      "text/plain": [
       "DatasetDict({\n",
       "    train: Dataset({\n",
       "        features: ['question', 'context', 'answer', 'text', 'token_count'],\n",
       "        num_rows: 4000\n",
       "    })\n",
       "    validation: Dataset({\n",
       "        features: ['question', 'context', 'answer', 'text', 'token_count'],\n",
       "        num_rows: 500\n",
       "    })\n",
       "    test: Dataset({\n",
       "        features: ['question', 'context', 'answer', 'text', 'token_count'],\n",
       "        num_rows: 100\n",
       "    })\n",
       "})"
      ]
     },
     "execution_count": 199,
     "metadata": {},
     "output_type": "execute_result"
    }
   ],
   "source": [
    "\n",
    "dataset = load_dataset(\n",
    "    \"json\",\n",
    "    data_files={\"train\": \"train.json\", \"validation\": \"val.json\", \"test\": \"test.json\"},\n",
    ")\n",
    "dataset"
   ]
  },
  {
   "cell_type": "code",
   "execution_count": 114,
   "id": "7a99cf41-9d2e-4406-9e1f-05c51ff21ca2",
   "metadata": {
    "tags": []
   },
   "outputs": [],
   "source": [
    "def format_example(row: dict):\n",
    "    prompt = dedent(\n",
    "        f\"\"\"\n",
    "    {row[\"question\"]}\n",
    "\n",
    "    Information:\n",
    "\n",
    "    ```\n",
    "    {row[\"context\"]}\n",
    "    ```\n",
    "    \"\"\"\n",
    "    )\n",
    "    messages = [\n",
    "        {\n",
    "            \"role\": \"system\",\n",
    "            \"content\": \"Use only the information to answer the question\",\n",
    "        },\n",
    "        {\"role\": \"user\", \"content\": prompt},\n",
    "        {\"role\": \"assistant\", \"content\": row[\"answer\"]},\n",
    "    ]\n",
    "    return tokenizer.apply_chat_template(messages, tokenize=False)"
   ]
  },
  {
   "cell_type": "code",
   "execution_count": 115,
   "id": "b993473a-9a02-44bf-8e1f-8f3aa9706281",
   "metadata": {
    "tags": []
   },
   "outputs": [
    {
     "name": "stdout",
     "output_type": "stream",
     "text": [
      "{'question': 'How does sector rotation work?', 'context': 'This system provides tailored financial advice by analyzing individual risk tolerance and investment goals, offering optimized asset allocation strategies to balance risk and return. It helps users make informed decisions by considering current market conditions and their personal financial objectives'}\n"
     ]
    }
   ],
   "source": [
    "\n",
    "row = dataset[\"test\"][0]\n",
    "prompt = create_test_prompt(row)\n",
    "print(prompt)"
   ]
  },
  {
   "cell_type": "code",
   "execution_count": 116,
   "id": "73087412-ffe2-4d82-a8af-5bc8c8d61d78",
   "metadata": {
    "tags": []
   },
   "outputs": [
    {
     "name": "stdout",
     "output_type": "stream",
     "text": [
      "\n",
      "answer:     Sector rotation involves shifting investments into sectors expected to perform well during specific economic cycles. For example, moving into defensive sectors during a downturn or into growth sectors during recovery. Would you like to incorporate sector rotation into your strategy?\n",
      "prediction: \n",
      "\n",
      "The provided context describes a financial advice system that uses a combination of risk tolerance, investment goals, and market conditions to create personalized asset allocation strategies. \n",
      "\n",
      "**Sector rotation** is a different concept in investing. It's not directly related to the advice system described. \n",
      "\n",
      "**Here's how sector rotation works:**\n",
      "\n",
      "* **Identifying Overvalued and Undervalued Sectors:**  Investors analyze the performance of different sectors (e.g., technology, healthcare, energy, financials) and identify those that are currently overvalued or undervalued. \n",
      "* **Shifting Investment Focus:**  Based on their analysis, investors shift their portfolio allocation from overvalued sectors to undervalued sectors. This can involve selling existing holdings in overvalued sectors and buying new positions in undervalued sectors.\n",
      "* **Timing the Rotation:**  Sector rotation is often considered a cyclical strategy. Investors aim to buy into undervalued sectors when they are expected to outperform and sell when they become overvalued.\n",
      "\n",
      "**Example:**\n",
      "\n",
      "* If the technology sector is performing well and is considered overvalued, investors might rotate their portfolio by selling technology stocks and buying into sectors like healthcare or energy, which are considered undervalued.\n",
      "\n",
      "**Important Considerations:**\n",
      "\n",
      "* **Market Timing:** Sector rotation is based on the assumption that market cycles will eventually lead to shifts in sector performance. This requires accurate market timing, which can be challenging.\n",
      "* **Risk:** Sector rotation involves taking on risk by shifting investments from one sector to another. \n",
      "* **Diversification:**  While sector rotation can be a strategy, it's important to diversify your portfolio across different asset classes and sectors to manage risk.\n",
      "\n",
      "\n",
      "Let me know if you'd like to explore any of these concepts in more detail! \n",
      "\n",
      "\n",
      "CPU times: user 14.6 s, sys: 211 ms, total: 14.8 s\n",
      "Wall time: 14.9 s\n"
     ]
    }
   ],
   "source": [
    "\n",
    "%%time\n",
    "outputs = pipe(str(prompt))\n",
    "response = f\"\"\"\n",
    "answer:     {row[\"answer\"]}\n",
    "prediction: {outputs[0][\"generated_text\"]}\n",
    "\"\"\"\n",
    "print(response)"
   ]
  },
  {
   "cell_type": "code",
   "execution_count": 214,
   "id": "75bd3ecd-a3a7-40d5-9fe2-37de4cbce292",
   "metadata": {
    "tags": []
   },
   "outputs": [],
   "source": [
    "# Assume dataset is loaded in the following format\n",
    "# dataset = {\"test\": [{\"question\": \"What is the capital of France?\", \"answer\": \"The capital of France is Paris.\", \"context\": \"Paris is the largest city in France.\"}]}\n",
    "\n",
    "# Convert your dataset to a Hugging Face Dataset\n",
    "hf_dataset = Dataset.from_dict({\"test\": dataset[\"test\"]})\n",
    "\n",
    "# Function to create prompts for the entire dataset\n",
    "def create_test_prompts(batch):\n",
    "    return [f\"{item['question']}\\n\\nContext:\\n{item['context']}\\n\" for item in batch]\n",
    "\n",
    "# Generate predictions in batches\n",
    "def generate_predictions(batch):\n",
    "    prompts = create_test_prompts(batch)\n",
    "    outputs = pipe(str(prompts), max_new_tokens=128, return_full_text=False)\n",
    "    return [output['generated_text'] for output in outputs]\n",
    "\n",
    "# Collecting results into a DataFrame\n",
    "rows = []\n",
    "predictions = []\n",
    "\n",
    "# Loop through the dataset in batches\n",
    "batch_size = 3\n",
    "for i in tqdm(range(0, len(hf_dataset), batch_size)):  \n",
    "    batch = hf_dataset[\"test\"][i:i + batch_size]  # Get the current batch\n",
    "    preds = generate_predictions(batch)  # Generate predictions for the current batch\n",
    "    predictions.extend(preds)  # Collect predictions\n",
    "\n",
    "# Now append the predictions to the rows\n",
    "for i, row in enumerate(hf_dataset[\"test\"]):\n",
    "    # Use the prediction if available, else provide a fallback or default value\n",
    "    prediction = predictions[i] if i < len(predictions) else \"No prediction generated\"\n",
    "    \n",
    "    rows.append(\n",
    "        {\n",
    "            \"question\": row[\"question\"],\n",
    "            \"context\": row[\"context\"],\n",
    "            \"prompt\": create_test_prompts([row])[0],\n",
    "            \"answer\": row[\"answer\"],\n",
    "            \"untrained_prediction\": prediction,  # Use the prediction directly\n",
    "        }\n",
    "    )"
   ]
  },
  {
   "cell_type": "code",
   "execution_count": 154,
   "id": "a78ef71a-4334-413e-a695-049228cc47ad",
   "metadata": {
    "tags": []
   },
   "outputs": [],
   "source": [
    "predictions_df = pd.DataFrame(rows)"
   ]
  },
  {
   "cell_type": "code",
   "execution_count": 155,
   "id": "c1195788-788b-433b-9b9a-cbfafbac26ff",
   "metadata": {
    "tags": []
   },
   "outputs": [
    {
     "name": "stdout",
     "output_type": "stream",
     "text": [
      "                         question  \\\n",
      "0  How does sector rotation work?   \n",
      "\n",
      "                                             context  \\\n",
      "0  This system provides tailored financial advice...   \n",
      "\n",
      "                                              prompt  \\\n",
      "0  How does sector rotation work?\\n\\nContext:\\nTh...   \n",
      "\n",
      "                                              answer  \\\n",
      "0  Sector rotation involves shifting investments ...   \n",
      "\n",
      "                                untrained_prediction  \n",
      "0  \\n\\nThese are a mix of questions about finance...  \n"
     ]
    }
   ],
   "source": [
    "# Display or save the predictions DataFrame as needed\n",
    "print(predictions_df[:1])"
   ]
  },
  {
   "cell_type": "code",
   "execution_count": 158,
   "id": "fafa4d13-928f-41ba-9c3c-626242002d6a",
   "metadata": {
    "tags": []
   },
   "outputs": [
    {
     "name": "stdout",
     "output_type": "stream",
     "text": [
      "                                            question  \\\n",
      "0                     How does sector rotation work?   \n",
      "1  What are the benefits of investing in the luxu...   \n",
      "2  What were the book value and fair value of Gen...   \n",
      "3  What was the total value of the aggregate tran...   \n",
      "4  Should I consider investing in companies with ...   \n",
      "\n",
      "                                             context  \\\n",
      "0  This system provides tailored financial advice...   \n",
      "1  This system provides tailored financial advice...   \n",
      "2  We own certain corporate debt securities of Ge...   \n",
      "3  On September 5, 2023, we acquired Black Knight...   \n",
      "4  This system provides tailored financial advice...   \n",
      "\n",
      "                                              prompt  \\\n",
      "0  <|begin_of_text|><|start_header_id|>system<|en...   \n",
      "1  <|begin_of_text|><|start_header_id|>system<|en...   \n",
      "2  <|begin_of_text|><|start_header_id|>system<|en...   \n",
      "3  <|begin_of_text|><|start_header_id|>system<|en...   \n",
      "4  <|begin_of_text|><|start_header_id|>system<|en...   \n",
      "\n",
      "                                              answer  \\\n",
      "0  Sector rotation involves shifting investments ...   \n",
      "1  The luxury goods market caters to affluent con...   \n",
      "2  The book value was $379 million and the fair v...   \n",
      "3  The total value of the aggregate transaction f...   \n",
      "4  Companies with high market share often enjoy c...   \n",
      "\n",
      "                                untrained_prediction  \\\n",
      "0  The text does not provide information on secto...   \n",
      "1  The provided information does not mention the ...   \n",
      "2  The book value of Gentiva Hospice's corporate ...   \n",
      "3  The total value of the aggregate transaction f...   \n",
      "4  The provided information does not directly ans...   \n",
      "\n",
      "                                  trained_prediction  \\\n",
      "0  Sector rotation involves shifting investments ...   \n",
      "1  The luxury goods market, which includes high-e...   \n",
      "2  The book value of Gentiva Hospice’s corporate ...   \n",
      "3  The total value of the aggregate transaction f...   \n",
      "4  High market share companies tend to be more st...   \n",
      "\n",
      "                             google_gemma_prediction  \n",
      "0  \\n\\nThese are a mix of questions about finance...  \n",
      "1  \\n\\nThese are all questions about financial pe...  \n",
      "2  \\n\\nThese are some examples of questions that ...  \n",
      "3  \\n\\nThe provided context is a mix of questions...  \n",
      "4  \\n\\nThese are some examples of questions that ...  \n"
     ]
    }
   ],
   "source": [
    "df['google_gemma_prediction'] = predictions_df['untrained_prediction']\n",
    "\n",
    "# Display the updated DataFrame\n",
    "print(df.head())"
   ]
  },
  {
   "cell_type": "code",
   "execution_count": 157,
   "id": "cadf2a12-50d8-4707-821b-90c473221e47",
   "metadata": {
    "tags": []
   },
   "outputs": [
    {
     "name": "stdout",
     "output_type": "stream",
     "text": [
      "Trained Result - BLEU Score: 0.05%, ROUGE-L F1 Score: 1.08%\n"
     ]
    }
   ],
   "source": [
    "bleu_score11, rouge_l_f1_11 = calculate_text_metrics(df['google_gemma_prediction'], df['answer'])\n",
    "print(f'Trained Result - BLEU Score: {bleu_score11:.2%}, ROUGE-L F1 Score: {rouge_l_f1_11:.2%}')"
   ]
  },
  {
   "cell_type": "code",
   "execution_count": 206,
   "id": "996919bc-d160-4fbe-b1f4-5d8e84191fb9",
   "metadata": {
    "tags": []
   },
   "outputs": [],
   "source": [
    "import openai\n",
    "import pandas as pd\n",
    "import nest_asyncio\n",
    "import asyncio\n",
    "import aiohttp\n",
    "from tqdm import tqdm\n",
    "\n",
    "# Apply nest_asyncio to allow nested event loops\n",
    "nest_asyncio.apply()\n",
    "hf_dataset = Dataset.from_dict({\"test\": dataset[\"test\"]})\n",
    "df = pd.DataFrame(hf_dataset)\n",
    "# Set your OpenAI API key\n",
    "openai.api_key = 'sk-proj-xx'"
   ]
  },
  {
   "cell_type": "code",
   "execution_count": 207,
   "id": "98bde53f-eec7-42ed-8977-c7dc03471419",
   "metadata": {
    "tags": []
   },
   "outputs": [
    {
     "data": {
      "text/html": [
       "<div>\n",
       "<style scoped>\n",
       "    .dataframe tbody tr th:only-of-type {\n",
       "        vertical-align: middle;\n",
       "    }\n",
       "\n",
       "    .dataframe tbody tr th {\n",
       "        vertical-align: top;\n",
       "    }\n",
       "\n",
       "    .dataframe thead th {\n",
       "        text-align: right;\n",
       "    }\n",
       "</style>\n",
       "<table border=\"1\" class=\"dataframe\">\n",
       "  <thead>\n",
       "    <tr style=\"text-align: right;\">\n",
       "      <th></th>\n",
       "      <th>test</th>\n",
       "    </tr>\n",
       "  </thead>\n",
       "  <tbody>\n",
       "    <tr>\n",
       "      <th>0</th>\n",
       "      <td>{'answer': 'Sector rotation involves shifting ...</td>\n",
       "    </tr>\n",
       "    <tr>\n",
       "      <th>1</th>\n",
       "      <td>{'answer': 'The luxury goods market caters to ...</td>\n",
       "    </tr>\n",
       "    <tr>\n",
       "      <th>2</th>\n",
       "      <td>{'answer': 'The book value was $379 million an...</td>\n",
       "    </tr>\n",
       "    <tr>\n",
       "      <th>3</th>\n",
       "      <td>{'answer': 'The total value of the aggregate t...</td>\n",
       "    </tr>\n",
       "    <tr>\n",
       "      <th>4</th>\n",
       "      <td>{'answer': 'Companies with high market share o...</td>\n",
       "    </tr>\n",
       "  </tbody>\n",
       "</table>\n",
       "</div>"
      ],
      "text/plain": [
       "                                                test\n",
       "0  {'answer': 'Sector rotation involves shifting ...\n",
       "1  {'answer': 'The luxury goods market caters to ...\n",
       "2  {'answer': 'The book value was $379 million an...\n",
       "3  {'answer': 'The total value of the aggregate t...\n",
       "4  {'answer': 'Companies with high market share o..."
      ]
     },
     "execution_count": 207,
     "metadata": {},
     "output_type": "execute_result"
    }
   ],
   "source": [
    "df.head()"
   ]
  },
  {
   "cell_type": "code",
   "execution_count": 209,
   "id": "9cf66c05-d7ca-43de-8ef1-841b5829ab0b",
   "metadata": {
    "tags": []
   },
   "outputs": [
    {
     "name": "stdout",
     "output_type": "stream",
     "text": [
      "['How does sector rotation work?\\n\\nInformation:\\n```\\nThis system provides tailored financial advice by analyzing individual risk tolerance and investment goals, offering optimized asset allocation strategies to balance risk and return. It helps users make informed decisions by considering current market conditions and their personal financial objectives\\n```', 'What are the benefits of investing in the luxury goods market?\\n\\nInformation:\\n```\\nThis system provides tailored financial advice by analyzing individual risk tolerance and investment goals, offering optimized asset allocation strategies to balance risk and return. It helps users make informed decisions by considering current market conditions and their personal financial objectives\\n```', 'What were the book value and fair value of Gentiva Hospice’s corporate debt securities at December 31, 2023?\\n\\nInformation:\\n```\\nWe own certain corporate debt securities of Gentiva Hospice. The book value and fair value are $379 million and $398 million, respectively, at December 31, 2023.\\n```', 'What was the total value of the aggregate transaction for acquiring Black Knight, Inc. by ICE in 2023?\\n\\nInformation:\\n```\\nOn September 5, 2023, we acquired Black Knight, Inc., a software, data, and analytics company. The aggregate transaction consideration was approximately $11.8 billion, with cash comprising 90% and shares of our common stock comprising 10%.\\n```', 'Should I consider investing in companies with high market share?\\n\\nInformation:\\n```\\nThis system provides tailored financial advice by analyzing individual risk tolerance and investment goals, offering optimized asset allocation strategies to balance risk and return. It helps users make informed decisions by considering current market conditions and their personal financial objectives\\n```', 'What were the deferred revenue and customer deposit balances as of December 31, 2023, and how do they compare to the previous year?\\n\\nInformation:\\n```\\nOur deferred revenue and deferred revenue, noncurrent as of December 31, 2023 were $246.9 million and $28.0 million, respectively. Our customer deposits and customer deposits, noncurrent as of December 31, 2023 were $209.8 million and $1.5 million, respectively. Our deferred revenue and deferred revenue, noncurrent as of December 31, 2022 were $183.4 million and $10.0 million, respectively. Our customer deposits and customer deposits, noncurrent as of December 31, 2022 were $142.0 million and $3.9 million, respectively.\\n```', 'What are the risks and benefits of investing in foreign currencies?\\n\\nInformation:\\n```\\nThis system provides tailored financial advice by analyzing individual risk tolerance and investment goals, offering optimized asset allocation strategies to balance risk and return. It helps users make informed decisions by considering current market conditions and their personal financial objectives\\n```', 'What strategic advantages does Electronic Arts claim to have in the gaming industry?\\n\\nInformation:\\n```\\nElectronic Arts mentions several strategic advantages including an extensive portfolio of intellectual property, diverse business models and distribution channels, a talented workforce, and a large network\\n```', 'How is interest income not attributable to the Card Member loan portfolio primarily represented in financial documents?\\n\\nInformation:\\n```\\nInterest income not attributable to the Card Member loan portfolio primarily represents income from other loans, interest-bearing deposits, and fixed income investment portfolios.\\n```', \"How did share repurchases affect The Hershey Company's EPS-diluted in 2022?\\n\\nInformation:\\n```\\nOur 2022 EPS-diluted also benefited from lower weighted-average shares outstanding as a result of share repurchases pursuant to our Board-approved repurchase programs.\\n```\", 'What was the net cash provided by operating activities in fiscal 2023?\\n\\nInformation:\\n```\\nFor fiscal 2023, the net cash provided by operating activities was $7,111 million.\\n```', 'What are the risks of investing in the auto industry?\\n\\nInformation:\\n```\\nThis system provides tailored financial advice by analyzing individual risk tolerance and investment goals, offering optimized asset allocation strategies to balance risk and return. It helps users make informed decisions by considering current market conditions and their personal financial objectives\\n```', 'How has HPE adapted its business model in response to emerging technological megatrends?\\n\\nInformation:\\n```\\nHPE has deployed an edge-to-cloud strategy that capitalizes on emergent megatrends and delivers a data-first modernization approach for customers. HPE has evolved to a platform-based model, fueled by a portfolio richer in software and services.\\n```', 'What are the benefits of Fiber Optic Components in telecommunication?\\n\\nInformation:\\n```\\nFiber Optic Components: We supply a wide array of optical components to the Ethernet networking, storage, and access, metro- and long-haul telecommunication markets. Our optical components enable the high speed reception and transmission of data through optical fibers.\\n```', 'What caused the annual average of total covered positions and less liquid trading positions portfolio VaR for 2023 to decrease compared to 2022?\\n\\nInformation:\\n```\\nThe annual average of total covered positions and less liquid trading positions portfolio VaR for 2023 decreased compared to 2022, primarily due to the roll off of March 2020 market volatility from the window of historical data used in the calibration of the VaR model.\\n```', \"What was the total value of the Company's cash, cash equivalents, short-term investments, and marketable securities as of December 31, 2023?\\n\\nInformation:\\n```\\nThe Company's cash, cash equivalents, short-term investments, and marketable securities totaled $13.7 billion as of December 31, 2023.\\n```\", 'How could a reduction in mortgage lending volume impact revenues?\\n\\nInformation:\\n```\\nA reduction in trading volumes could also result in a corresponding decrease in the demand for our market data, which would further reduce our overall revenue. ... This decrease in lending volume has adversely affected our revenues, in particular those of a transactional nature which are directly connected to the number of loans processed using our technology.\\n```', 'What are the risks of investing in the retail sector?\\n\\nInformation:\\n```\\nThis system provides tailored financial advice by analyzing individual risk tolerance and investment goals, offering optimized asset allocation strategies to balance risk and return. It helps users make informed decisions by considering current market conditions and their personal financial objectives\\n```', 'How does Schwab manage its exposure to operational risk from third-party service providers?\\n\\nInformation:\\n```\\nSchwab faces operational risk when employing the services of various third-party providers and manages this risk through internal policies, procedures, controls, and contractual provisions. These provisions include control standards, ongoing monitoring of third-party performance, and appropriate testing with third-party service providers.\\n```', 'In what section of the report is Note 20 about legal matters located?\\n\\nInformation:\\n```\\nITEM 3. Legal Proceedings Refer to Note 30—Legal Matters to our consolidated financial statements included in Item 8 of this report.\\n```', 'How much did SG&A expenses increase in fiscal 2022?\\n\\nInformation:\\n```\\nSG&A increased $878 million, or 3.5%, to $26.3 billion in fiscal 2022.\\n```', 'What improvements do AMD’s Ryzen 7000 Series desktop processors provide?\\n\\nInformation:\\n```\\nOur Ryzen 7000 Series desktop processors are based on “Zen 4” architecture and deliver leadership performance for gamers and content creators.\\n```', 'What was the effect of vesting acceleration and stock option repricing on stock-based compensation expense?\\n\\nInformation:\\n```\\nThe acceleration of vesting for certain restricted stock units resulted in $35.6 million of extra stock-based compensation expense and the repricing of stock options added $21.9 million in incremental expense.\\n```', 'How much revenue was generated by advertising and Internet advertising in fiscal years 2023, 2022, and 2021?\\n\\nInformation:\\n```\\nAdvertising and Internet advertising revenues were $0.5 billion, $0.7 billion, and $1.2 billion in fiscal years 2023, 2022, and 2021, respectively.\\n```', \"What can make changing the company's operations in accordance with new or changed restrictions on international trade expensive, time-consuming, and disruptive to operations?\\n\\nInformation:\\n```\\nChanging the Company’s operations in accordance with new or changed restrictions on international trade can be expensive, time-consuming and disruptive to the Company’s operations. Such restrictions can be announced with little or no advance notice and the Company may not be able to effectively mitigate all adverse impacts from such measures.\\n```\", 'Which companies operate under the Trip.com Group?\\n\\nInformation:\\n```\\nOrbitz, and Travelocity), Trip.com Group (including the brands Ctrip.com, Trip.com, Qunar, Tongcheng-eLong, and SkyScanner), Hopper, Fliggy (a subsidiary of Alibaba), Despegar, MakeMyTrip, and other regional OTAs;\\n```', 'What are the three main objectives of internal control over financial reporting?\\n\\nInformation:\\n```\\nInternal control over financial reporting seeks to ensure that records detail company transactions and asset dispositions accurately and fairly; transactions align with necessary recordings for financial statement preparation in accordance with generally accepted accounting principles and authorized expenditures; and there is assurance on the prevention or detection of unauthorized use of assets that could significantly impact financial statements.\\n```', 'What are the risks of investing in leveraged ETFs?\\n\\nInformation:\\n```\\nThis system provides tailored financial advice by analyzing individual risk tolerance and investment goals, offering optimized asset allocation strategies to balance risk and return. It helps users make informed decisions by considering current market conditions and their personal financial objectives\\n```', 'What are the benefits of investing in artificial intelligence (AI)?\\n\\nInformation:\\n```\\nThis system provides tailored financial advice by analyzing individual risk tolerance and investment goals, offering optimized asset allocation strategies to balance risk and return. It helps users make informed decisions by considering current market conditions and their personal financial objectives\\n```', 'What were the primary components included in the cost of automotive leasing revenue?\\n\\nInformation:\\n```\\nCost of automotive leasing revenue includes the depreciation of operating lease vehicles, cost of goods sold associated with direct sales-type leases and warranty expense related to leased vehicles.\\n```', 'What type of hedges does HP use to protect against interest rate risks and foreign currency exchange risks in its forecasted transactions?\\n\\nInformation:\\n```\\nHP enters into fair value hedges, such as interest rate swaps, to reduce the exposure of its debt portfolio to changes in fair value resulting from changes in benchmark interest rates. HP also uses forward contracts, option contracts, treasury rate locks and forward starting swaps designated as cash flow hedges to protect against the foreign currency exchange and interest rate risks inherent in its forecasted net revenue, cost of revenue, operating expenses and debt issuance.\\n```', 'What factors does the company consider in the valuation allowance assessment for deferred tax assets?\\n\\nInformation:\\n```\\nWe monitor the realizability of our deferred tax assets taking into account all relevant factors at each reporting period. In completing our assessment of realizability of our deferred tax assets, we consider our history of income (loss) measured at pre-tax income (loss) adjusted for permanent book-tax differences on a jurisdictional basis, volatility in actual earnings, excess tax benefits related to stock-based compensation in recent prior years, and impacts of the timing of reversal of existing temporary differences. We also rely on our assessment of the Company’s projected future results of business operations, including uncertainty in future operating results relative to historical results, volatility in the market price of our common stock and its performance over time, variable macroeconomic conditions impacting our ability to forecast future taxable income, and changes in business that may affect the existence and magnitude of future taxable income.\\n```', 'How much did the company spend on research and development in 2022?\\n\\nInformation:\\n```\\nOperating Expenses Operating expenses for 2023, 2022 and 2021 were as follows (dollars in millions):   | 2023 | | Change | 2022 | | Change | | 2021  Research and development | $ | 29,915 | | 14 | % | | $ | 26,251 | | 20 | % | $ | 21,914 Percentage of total net sales | 8 | % | | | 7 | % | | | 6 | %  Selling, general and administrative | $ | 24,932 | | (1) | % | | $ | 25,094 | | 14 | % | $ | 21,973 Percentage of total net sales | 7 | % | | | 6 | % | | | 6 | %  Total operating expenses | $ | 54,847 | | 7 | % | | $ | 51,345 | | 17 | % | $ | 43,887 Percentage of total net sales | 14 | % | | | 13 | % | | | 12 | %\\n```', 'What are some of the recent applications of GPU-powered deep learning as mentioned by NVIDIA?\\n\\nInformation:\\n```\\nSome of the most recent applications of GPU-powered deep learning include recommendation systems, which are AI algorithms trained to understand the preferences, previous decisions, and characteristics of people and products using data gathered about their interactions, large language models, which can recognize, summarize, translate, predict and generate text and other content based on knowledge gained from massive datasets, and generative AI, which uses algorithms that create new content, including audio, code, images, text, simulations, and videos, based on the data they have been trained on.\\n```', \"What do the pages 44 through 121 of IBM’s 2023 Annual Report to Stockholders contain?\\n\\nInformation:\\n```\\nPages 44 to 121 in IBM's 2023 Annual Report to Stockholders are dedicated to Financial Statements and Supplementary Data.\\n```\", 'What are some of the competitive pressures faced by large financial firms like Goldman Sachs?\\n\\nInformation:\\n```\\nLarge financial firms like Goldman Sachs are subjected to competitive pressures that have increased due to globalization. These pressures come from larger institutions with more resources and smaller, more specialized competitors. They also compete in the market based on the variety of financial products and client experiences they can provide.\\n```', 'What factors can affect the overall effective tax rate of a company?\\n\\nInformation:\\n```\\nFactors affecting the overall effective tax rate include acquisitions, changes in corporate structures, location of business functions, the mix and amount of income, agreements with tax authorities, and variations in estimated and actual pre-tax income.\\n```', 'What opportunities does the company provide to help employees develop their careers?\\n\\nInformation:\\n```\\nWe provide opportunities for our employees to grow their careers through annual goal setting and quarterly conversations. We invest in developing our employees by providing blended learning opportunities and in-house trainings and by offering third-party programs, including specialized trainings and broader academic pursuits.\\n```', \"What are the key components of Schwab's risk management program?\\n\\nInformation:\\n```\\nSchwab's comprehensive risk management program includes risk identification and assessment, risk response, risk measurement and monitoring, and risk reporting and escalation, supported by periodic risk and control self-assessments, control testing programs, and evaluations by the internal audit department.\\n```\", 'How much unrestricted and restricted cash did the entity in Mainland China hold as of December 31, 2023?\\n\\nInformation:\\n```\\nMainland China held unrestricted cash and cash equivalents of $2.20 billion and restricted cash of $124 million as of December 31, 2023.\\n```', 'What are the expected influences on AWS revenue growth rates given the current macroeconomic environment?\\n\\nInformation:\\n```\\nWe also expect the current macroeconomic environment and enterprise customer cost optimization efforts to impact our AWS revenue growth rates.\\n```', 'What were the total non-cash impairment charges recognized by the company in 2022?\\n\\nInformation:\\n```\\nDuring the year ended December 31, 2022, the company recognized total non-cash impairment charges amounting to $1.0 billion.\\n```', \"Where can information about the company's legal proceedings be found in the Annual Report on Form 10-K?\\n\\nInformation:\\n```\\nFor a description of the company's significant pending legal proceedings, refer to Note 13, Commitments and Contingencies - Legal Proceedings, of the Notes to Consolidated Financial Statements included in Part II, Item 8 of this Annual Report on Form 10-K.\\n```\", 'How much of the lease obligations is payable within 12 months as of December 31, 2023?\\n\\nInformation:\\n```\\nAs of December 31, 2023, we had fixed lease payment obligations with $136 million payable within 12 months.\\n```', 'How much did GameStop report in total cash, cash equivalents, and restricted cash for the year 2022?\\n\\nInformation:\\n```\\nIn 2022, GameStop reported having a total of $1,196.0 million in cash and cash equivalents, which was a sum of $1,139.0 million in cash and cash equivalents, $41.3 million in restricted cash, and $15.7 million in long-term restricted cash, according to their Consolidated Statements of Cash Flows.\\n```', 'Yes, please provide some ETF suggestions.\\n\\nInformation:\\n```\\nThis system provides tailored financial advice by analyzing individual risk tolerance and investment goals, offering optimized asset allocation strategies to balance risk and return. It helps users make informed decisions by considering current market conditions and their personal financial objectives\\n```', 'How does Starbucks leverage technology in its international markets?\\n\\nInformation:\\n```\\nIn international markets, Starbucks invests in technology and partnerships to boost digital adoption, providing more convenience and enhancing the customer experience.\\n```', 'What are the enrollment periods for Medicare Advantage and stand-alone prescription drug plans?\\n\\nInformation:\\n```\\nAt December 31, 2023, we provided health insurance coverage under CMS contracts to approximately 5,408,900 individual Medicare Advantage members, including approximately 851,300 members in Florida. These Florida contracts accounted for premiums revenue of approximately $14.9 billion, which represented approximately 19% of our individual Medicare Advantage premiums revenue.\\n```', 'I have a high risk tolerance and a long investment horizon. What do you suggest?\\n\\nInformation:\\n```\\nThis system provides tailored financial advice by analyzing individual risk tolerance and investment goals, offering optimized asset allocation strategies to balance risk and return. It helps users make informed decisions by considering current market conditions and their personal financial objectives\\n```', 'What amount did cash and cash equivalents reach at the end of 2023?\\n\\nInformation:\\n```\\nAs of December 31, 2023, cash and cash equivalents totaled $6.2 billion, showing an increase from $4.7 billion in 2022.\\n```', \"Who are the competitors for Microsoft's server applications in PC-based environments?\\n\\nInformation:\\n```\\nCommercial competitors for our server applications for PC-based distributed client-server environments include CA Technologies, IBM, and Oracle.\\n```\", 'How do I balance my portfolio as I get closer to retirement?\\n\\nInformation:\\n```\\nThis system provides tailored financial advice by analyzing individual risk tolerance and investment goals, offering optimized asset allocation strategies to balance risk and return. It helps users make informed decisions by considering current market conditions and their personal financial objectives\\n```', 'What are the principal amounts for short-term and long-term debts to be paid as of October 31, 2023?\\n\\nInformation:\\n```\\nAs of October 31, 2023, the principal payments on debt were $9,585 million in total, with $216 million due as short-term and $9,369 million as long-term obligations.\\n```', 'What are the key benefits offered by American Express to its Card Members through cobrand arrangements like with Delta Air Lines?\\n\\nInformation:\\n```\\nAmerican Express issues cards under cobrand arrangements with Delta Air Lines, and these cobrand portfolios provide benefits including travel-related services and the ability to earn and redeem reward points.\\n```', 'How does the company generate the majority of its revenue?\\n\\nInformation:\\n```\\nFamily of Apps (FoA) Advertising. We generate substantially all of our revenue from advertising. Our advertising revenue is generated by displaying ad products on Facebook, Instagram, Messenger, and third-party mobile applications.\\n```', 'What new obligations were introduced by the Digital Personal Data Protection Act 2023 in India?\\n\\nInformation:\\n```\\nIndia enacted a new privacy law, The Digital Personal Data Protection Act, 2023 (DPDP Act), in August 2023. The DPDP Act will become effective at a future date or dates to be determined by the Indian Central Government.\\n```', 'How many AutoZone stores are there in the U.S., Mexico, and Brazil as of the end of fiscal 2023?\\n\\nInformation:\\n```\\nAt the end of fiscal 2023, the Company operated 6,300 stores in the U.S., 740 stores in Mexico and 100 stores in Brazil.\\n```', 'What does the technology and development expenses include?\\n\\nInformation:\\n```\\nTechnology and development expenses consist primarily of payroll, stock-based compensation, facilities, and other related expenses for technology personnel responsible for making improvements to our service offerings, including testing, maintaining and modifying our user interface, our recommendations, merchandising and infrastructure. Technology and development expenses also include costs associated with general use computer hardware and software.\\n```', 'What are the benefits of investing in sustainable real estate?\\n\\nInformation:\\n```\\nThis system provides tailored financial advice by analyzing individual risk tolerance and investment goals, offering optimized asset allocation strategies to balance risk and return. It helps users make informed decisions by considering current market conditions and their personal financial objectives\\n```', \"What was the net increase in GM Financial's cash provided by counterparty derivative collateral posting activities in 2023?\\n\\nInformation:\\n```\\nIn the year ended December 31, 2023, there was a net increase in cash provided by counterparty derivative collateral posting activities of $1.3 billion.\\n```\", \"What were the outcomes of the 2023 initiatives related to FedEx's autonomous delivery technology programs?\\n\\nInformation:\\n```\\nIn 2023, FedEx ended the research and development program for Roxo, the FedEx SameDay Bot, to prioritize these other nearer-term opportunities.\\n```\", 'What are the benefits of investing in consumer discretionary stocks?\\n\\nInformation:\\n```\\nThis system provides tailored financial advice by analyzing individual risk tolerance and investment goals, offering optimized asset allocation strategies to balance risk and return. It helps users make informed decisions by considering current market conditions and their personal financial objectives\\n```', \"How does moving manufacturing to the United States benefit Enphase Energy, Inc. according to the Inflation Reduction Act of 2022?\\n\\nInformation:\\n```\\nDuring the fiscal year 2023, we began shipments of microinverters from our contract manufacturers in the United States. Moving manufacturing to the United States allows us to take advantage of the benefits of the Inflation Reduction Act of 2022 (the 'IRA') as well as help us better serve our customers by cutting down delivery times and diversifying our supply chain.\\n```\", 'What was the year-on-year change in the net loss percentage before income taxes from 2022 to 2023?\\n\\nInformation:\\n```\\nThe net loss before income taxes showed a decrease of 59.8%, with amounts changing from $711.1 in 2022 to $286.0 in 2023.\\n```', 'What are the benefits of investing in corporate bonds?\\n\\nInformation:\\n```\\nThis system provides tailored financial advice by analyzing individual risk tolerance and investment goals, offering optimized asset allocation strategies to balance risk and return. It helps users make informed decisions by considering current market conditions and their personal financial objectives\\n```', \"What criteria define the comparable hotels in the company's system?\\n\\nInformation:\\n```\\nComparable hotels are those that were active and operating in the system for at least one full calendar year as of year-end, open by January 1st of the prior year, did not change brand or ownership during the reported periods, and did not undergo large-scale capital projects, sustain substantial property damage, encounter business interruption, or lack available comparable results.\\n```\", 'What are the consequences of failing to comply with international and domestic trade regulations for this company?\\n\\nInformation:\\n```\\nThe consequences of any failure to comply with domestic and foreign trade regulations could limit our ability to conduct business globally.\\n```', \"By how much did Visa Inc.'s total nominal payments volume increase globally from 2021 to 2022?\\n\\nInformation:\\n```\\nVisa Inc.'s total nominal payments volume globally increased by 15% from $9,973 billion in 2021 to $11,470 billion in 2022.\\n```\", \"What is the fundamental obligation mentioned in the company's Code of Ethics regarding employees?\\n\\nInformation:\\n```\\nHuman Capital Our Code of Ethics requires that we “Take Care of Our Employees,” which is fundamental to the obligation to “Take Care of Our Members.”\\n```\", 'What is the PCAOB ID of the firm that prepared the report on the Consolidated Financial Statements?\\n\\nInformation:\\n```\\nPricewaterhouseCoopers LLP, the Firm’s independent registered public accounting firm, is identified with PCAOB ID 238.\\n```', 'How do I incorporate value stocks into my portfolio?\\n\\nInformation:\\n```\\nThis system provides tailored financial advice by analyzing individual risk tolerance and investment goals, offering optimized asset allocation strategies to balance risk and return. It helps users make informed decisions by considering current market conditions and their personal financial objectives\\n```', 'How can I invest for long-term growth?\\n\\nInformation:\\n```\\nThis system provides tailored financial advice by analyzing individual risk tolerance and investment goals, offering optimized asset allocation strategies to balance risk and return. It helps users make informed decisions by considering current market conditions and their personal financial objectives\\n```', 'What is Item 8 about in the context of an annual report on Form 10-K?\\n\\nInformation:\\n```\\nITEM 8: FINANCIAL STATEMENTS AND SUPPLEMENTARY DATA\\n```', 'What is contribution margin and why is it an important business measure?\\n\\nInformation:\\n```\\nContribution margin is defined as revenue less our cost of revenue and sales and marketing expenses, excluding stock-based compensation, divided by revenue. This measure helps in evaluating the business efficiency, identifying trends affecting the business, formulating plans and making strategic decisions.\\n```', 'What are the potential financial effects of the Tax Relief for American Families and Workers Act if enacted?\\n\\nInformation:\\n```\\nA bipartisan tax bill, the Tax Relief for American Families and Workers Act, was passed by the U.S. House of Representatives in January 2024. The bill contains certain business tax provisions including the retroactive repeal for 2022 and 2023 and deferral of the requirement to capitalize U.S. research and development expenses for tax purposes that was a provision enacted in the 2014_tax_act. Uncertainty exists as to whether the bill will be enacted into law; however, if the bill is enacted as currently drafted, we would expect our effective tax rate for 2024 to be moderately higher, and a net discrete tax detriment in the quarter of enrollment related to 2022 and 2023. In addition, we would expect a decrease in cash tax payments.\\n```', 'What was the basic net income per share for Garmin Ltd. in the fiscal year ending December 30, 2023?\\n\\nInformation:\\n```\\nThe basic net income per share for Garmin Ltd. for the fiscal year ending December 30, 2023 was $6.74.\\n```', 'How can I maximize returns while managing risk?\\n\\nInformation:\\n```\\nThis system provides tailored financial advice by analyzing individual risk tolerance and investment goals, offering optimized asset allocation strategies to balance risk and return. It helps users make informed decisions by considering current market conditions and their personal financial objectives\\n```', \"What does it mean that something is 'incorporated by reference' in a Form 10-K?\\n\\nInformation:\\n```\\nThe consolidated financial statements and accompanying notes listed in Part IV, Item 15(a)(1) of this Annual Report on Form 10-K are included immediately following Part IV hereof and incorporated by reference herein.\\n```\", 'What are the risks of investing in cryptocurrency?\\n\\nInformation:\\n```\\nThis system provides tailored financial advice by analyzing individual risk tolerance and investment goals, offering optimized asset allocation strategies to balance risk and return. It helps users make informed decisions by considering current market conditions and their personal financial objectives\\n```', 'In which part and item of a 10-K filing is detailed information regarding certain legal proceedings included?\\n\\nInformation:\\n```\\nAccording to the structure described, detailed information about specific legal proceedings is located in Item 8 of Part II of a 10-K filing.\\n```', 'What were the main factors contributing to the change in net sales for fiscal 2022?\\n\\nInformation:\\n```\\nThe decrease in consolidated net sales in fiscal 2022 compared to fiscal 2021 was primarily attributable to the translation impact of a stronger U.S. dollar, a decline in sales from new software releases and video game accessories, partially offset by an increase in sales of new gaming hardware and toys and collectibles.\\n```', 'What drove the increase in general and administrative expenses for the year ended December 31, 2025?\\n\\nInformation:\\n```\\nThe increase in general and administrative expenses for the year ended December 31, 2025 was primarily due to a $82 million increase in third-party expenses and a $78 million increase in personnel-related costs.\\n```', 'What was the percentage of total level 3 financial liabilities relative to total financial liabilities at fair value for the year 2023?\\n\\nInformation:\\n```\\nTotal level 3 financial liabilities divided by total financial liabilities at fair value resulted in 4.5% for the year 2023.\\n```', 'What was the reduction in the amortized cost basis of the closed portfolios due to cumulative basis adjustments in these hedging relationships?\\n\\nInformation:\\n```\\nThe cumulative basis adjustments associated with these hedging relationships are a reduction of the amortized cost basis of the closed portfolios of $19 million.\\n```', \"What is the purpose of the Management's Discussion and Analysis of Financial Condition and Results of Operations section in the Annual Report on Form 10-K?\\n\\nInformation:\\n```\\nITEM 7. MANAGEMENT’S DISCUSSION AND ANALYSIS OF FINANCIAL CONDITION AND RESULTS OF OPERATIONS The following discussion and analysis should be read in conjunction with the consolidated financial statements and the related notes included elsewhere in this Annual Report on Form 10-K. For further discussion of our products and services, technology and competitive strengths, refer to Item 1- Business.\\n```\", \"How does location-based entertainment enhance consumer experience for Hasbro brands?\\n\\nInformation:\\n```\\nLocation-based entertainment (“LBE”) allows consumers to experience and share our brands. LBE includes licensing our brands to theme parks, water parks, hotels and resorts, family entertainment centers, retail, dining and entertainment, shows, exhibits and exhibitions such as Hasbro City, the newly-opened Hasbro-themed family entertainment center located in Paseo Interlomas, Mexico featuring thrilling theme park rides and experiences, live shows, food and beverage options and the region's first Hasbro-themed retail location.\\n```\", 'What does Item 8 in the report primarily discuss?\\n\\nInformation:\\n```\\nItem 8 of the report includes the Report of Independent Registered Public Accounting Firm, Financial Statements, Notes to the Financial Statements, and the Financial Statement Schedule as part of its content.\\n```', \"What revenue growth did the company's U.S. business and International segment experience in fiscal 2023?\\n\\nInformation:\\n```\\nConsolidated revenues increased 12% to $36.0 billion in fiscal 2023 compared to $32.3 billion in fiscal 2022, primarily driven by strength in our U.S. business and growth in our International segment.\\n```\", 'What was the net change in total operating income for the fiscal year ending December 30, 2023 compared to the previous fiscal year?\\n\\nInformation:\\n```\\nThe total operating income increased by 6% in the fiscal year ending December 30, 2023 compared to the previous fiscal year.\\n```', 'What was the change in operating cash flow for Electronic Arts in the fiscal year ended March 31, 2023?\\n\\nInformation:\\n```\\nThe operating cash flow for Electronic Arts in the fiscal year ended March 31, 2023 was $1,550 million, which decreased by 18 percent year-over-year.\\n```', 'What was the amount of total equity reported at the end of 2023?\\n\\nInformation:\\n```\\nThe ending total equity for 2023 was reported as $3,560,965 thousand.\\n```', 'Which firm provided the report on the Consolidated Financial Statements?\\n\\nInformation:\\n```\\nPricewaterhouseCoopers LLP, the firm’s independent registered public accounting firm, provided the report on the Consolidated Financial Statements.\\n```', 'How are the estimated useful lives of assets adjusted and reviewed?\\n\\nInformation:\\n```\\nThe estimated useful lives of assets are periodically reviewed and adjusted as necessary on a prospective basis.\\n```', 'How many new Combo Stores did the company operate as of January 28, 2023?\\n\\nInformation:\\n```\\nAs of January 28, 202ia.day, we operated approximately 810 Combo Stores.\\n```', 'What new features does Windows 11 offer?\\n\\nInformation:\\n```\\nWindows 11 offers innovations focused on enhancing productivity, including Windows Copilot with centralized AI assistance and Dev Home to help developers become more productive.\\n```', \"What is the primary objective of the Management’s Discussion and Analysis of Financial Condition and Results of Operations as outlined by Hasbro?\\n\\nInformation:\\n```\\nThe objective of the Management's Discussion and Analysis of Financial Condition and Results of Operations is to provide an analysis of the company’s Financial Condition, Cash Flows and Results of Operations from management's perspective.\\n```\", \"What is the impact of the ACA on the Company's ability to change or set premium rates?\\n\\nInformation:\\n```\\nThe ACA specifies minimum medical loss ratios (MLRs) for Commercial and Medicare Insured products, specifies features required to be included in commercial benefit designs, limits commercial individual and small group rating and pricing practices, encourages additional competition, and includes regulations and processes that could delay or limit the Company’s ability to appropriately increase its health plan premium rates.\\n```\", 'What were the terms of the Senior Notes issued on July 21, 2023?\\n\\nInformation:\\n```\\nOn July 21, 2023, the company issued $450 million in 5.050% Senior Notes due July 2026 and $300 million in 5.200% Senior Notes due August 2033.\\n```', \"Are there any significant seasonal trends observed in the Company's worldwide sales?\\n\\nInformation:\\n```\\nWorldwide sales do not reflect any significant degree of seasonality.\\n```\", 'What factors are considered in selecting an appropriate discount rate for goodwill impairment evaluation?\\n\\nInformation:\\n```\\nCalculating the present value of future cash flows requires the selection of an appropriate discount rate, which is based on a weighted-average cost of capital analysis.\\n```']\n",
      "                                                test  \\\n",
      "0  {'answer': 'Sector rotation involves shifting ...   \n",
      "1  {'answer': 'The luxury goods market caters to ...   \n",
      "2  {'answer': 'The book value was $379 million an...   \n",
      "3  {'answer': 'The total value of the aggregate t...   \n",
      "4  {'answer': 'Companies with high market share o...   \n",
      "\n",
      "                                         predictions  \n",
      "0  Sector rotation is an investment strategy that...  \n",
      "1  Investing in the luxury goods market can offer...  \n",
      "2  At December 31, 2023, the book value of Gentiv...  \n",
      "3  The total value of the aggregate transaction f...  \n",
      "4  Investing in companies with high market share ...  \n"
     ]
    }
   ],
   "source": [
    "async def fetch_prediction(session, prompt):\n",
    "    \"\"\"Fetch prediction from OpenAI API for a single prompt.\"\"\"\n",
    "    response = await session.post(\n",
    "        \"https://api.openai.com/v1/chat/completions\",\n",
    "        json={\n",
    "            \"model\": \"gpt-4o-mini\",  # or \"gpt-3.5-turbo\"\n",
    "            \"messages\": [{\"role\": \"user\", \"content\": prompt}],\n",
    "            \"max_tokens\": 128,\n",
    "            \"temperature\": 0,\n",
    "        },\n",
    "        headers={\"Authorization\": f\"Bearer {openai.api_key}\"},\n",
    "    )\n",
    "    response_json = await response.json()\n",
    "    return response_json['choices'][0]['message']['content']\n",
    "\n",
    "async def get_predictions(prompts):\n",
    "    \"\"\"Fetch predictions for a list of prompts.\"\"\"\n",
    "    async with aiohttp.ClientSession() as session:\n",
    "        tasks = [fetch_prediction(session, prompt) for prompt in prompts]\n",
    "        predictions = await asyncio.gather(*tasks)\n",
    "    return predictions\n",
    "\n",
    "def create_prompts(df):\n",
    "    \"\"\"Create prompts from the DataFrame.\"\"\"\n",
    "    prompts = []\n",
    "    for index in range(len(df)):\n",
    "        row = df[index]  # Access the Series for the specific row\n",
    "        prompt = f\"{row['question']}\\n\\nInformation:\\n```\\n{row['context']}\\n```\"\n",
    "        prompts.append(prompt)\n",
    "    return prompts\n",
    "\n",
    "# Prepare prompts\n",
    "prompts = create_prompts(df['test'])\n",
    "\n",
    "# Run the async function to get predictions\n",
    "predictions = asyncio.run(get_predictions(prompts))\n",
    "\n",
    "# Add predictions to the DataFrame\n",
    "df['predictions'] = predictions\n",
    "\n",
    "# Display or save the DataFrame\n",
    "print(df.head())\n",
    "\n",
    "# Optionally, save to CSV\n",
    "df.to_csv('gpt4_predictions1.csv', index=False)"
   ]
  },
  {
   "cell_type": "code",
   "execution_count": 228,
   "id": "e3c8d2e7-ac83-4e80-874b-b456e6cfec75",
   "metadata": {
    "tags": []
   },
   "outputs": [
    {
     "data": {
      "text/html": [
       "<div>\n",
       "<style scoped>\n",
       "    .dataframe tbody tr th:only-of-type {\n",
       "        vertical-align: middle;\n",
       "    }\n",
       "\n",
       "    .dataframe tbody tr th {\n",
       "        vertical-align: top;\n",
       "    }\n",
       "\n",
       "    .dataframe thead th {\n",
       "        text-align: right;\n",
       "    }\n",
       "</style>\n",
       "<table border=\"1\" class=\"dataframe\">\n",
       "  <thead>\n",
       "    <tr style=\"text-align: right;\">\n",
       "      <th></th>\n",
       "      <th>test</th>\n",
       "      <th>predictions</th>\n",
       "    </tr>\n",
       "  </thead>\n",
       "  <tbody>\n",
       "    <tr>\n",
       "      <th>0</th>\n",
       "      <td>{'answer': 'Sector rotation involves shifting ...</td>\n",
       "      <td>Sector rotation is an investment strategy that...</td>\n",
       "    </tr>\n",
       "    <tr>\n",
       "      <th>1</th>\n",
       "      <td>{'answer': 'The luxury goods market caters to ...</td>\n",
       "      <td>Investing in the luxury goods market can offer...</td>\n",
       "    </tr>\n",
       "    <tr>\n",
       "      <th>2</th>\n",
       "      <td>{'answer': 'The book value was $379 million an...</td>\n",
       "      <td>At December 31, 2023, the book value of Gentiv...</td>\n",
       "    </tr>\n",
       "    <tr>\n",
       "      <th>3</th>\n",
       "      <td>{'answer': 'The total value of the aggregate t...</td>\n",
       "      <td>The total value of the aggregate transaction f...</td>\n",
       "    </tr>\n",
       "    <tr>\n",
       "      <th>4</th>\n",
       "      <td>{'answer': 'Companies with high market share o...</td>\n",
       "      <td>Investing in companies with high market share ...</td>\n",
       "    </tr>\n",
       "  </tbody>\n",
       "</table>\n",
       "</div>"
      ],
      "text/plain": [
       "                                                test  \\\n",
       "0  {'answer': 'Sector rotation involves shifting ...   \n",
       "1  {'answer': 'The luxury goods market caters to ...   \n",
       "2  {'answer': 'The book value was $379 million an...   \n",
       "3  {'answer': 'The total value of the aggregate t...   \n",
       "4  {'answer': 'Companies with high market share o...   \n",
       "\n",
       "                                         predictions  \n",
       "0  Sector rotation is an investment strategy that...  \n",
       "1  Investing in the luxury goods market can offer...  \n",
       "2  At December 31, 2023, the book value of Gentiv...  \n",
       "3  The total value of the aggregate transaction f...  \n",
       "4  Investing in companies with high market share ...  "
      ]
     },
     "execution_count": 228,
     "metadata": {},
     "output_type": "execute_result"
    }
   ],
   "source": [
    "df = pd.read_csv('gpt4_predictions1.csv')\n",
    "df.head()"
   ]
  },
  {
   "cell_type": "code",
   "execution_count": 229,
   "id": "389c0b6e-e034-4272-8a4b-757fd9cea91d",
   "metadata": {
    "tags": []
   },
   "outputs": [
    {
     "data": {
      "text/plain": [
       "'Sector rotation is an investment strategy that involves shifting investments among different sectors of the economy based on their performance and the economic cycle. The idea is to capitalize on the cyclical nature of various sectors, which tend to perform differently at different stages of the economic cycle. Here’s how it works:\\n\\n### Understanding Economic Cycles\\n1. **Economic Expansion**: During periods of economic growth, sectors like technology, consumer discretionary, and industrials often perform well as consumer spending increases and businesses invest in growth.\\n2. **Peak**: As the economy reaches its peak, inflation may rise, and interest rates might increase, leading to a shift in'"
      ]
     },
     "execution_count": 229,
     "metadata": {},
     "output_type": "execute_result"
    }
   ],
   "source": [
    "df[\"predictions\"][0]"
   ]
  },
  {
   "cell_type": "code",
   "execution_count": 230,
   "id": "e83031aa-2f1f-452d-9b6f-7a395e3a3edd",
   "metadata": {
    "tags": []
   },
   "outputs": [
    {
     "data": {
      "text/html": [
       "<div>\n",
       "<style scoped>\n",
       "    .dataframe tbody tr th:only-of-type {\n",
       "        vertical-align: middle;\n",
       "    }\n",
       "\n",
       "    .dataframe tbody tr th {\n",
       "        vertical-align: top;\n",
       "    }\n",
       "\n",
       "    .dataframe thead th {\n",
       "        text-align: right;\n",
       "    }\n",
       "</style>\n",
       "<table border=\"1\" class=\"dataframe\">\n",
       "  <thead>\n",
       "    <tr style=\"text-align: right;\">\n",
       "      <th></th>\n",
       "      <th>question</th>\n",
       "      <th>context</th>\n",
       "      <th>prompt</th>\n",
       "      <th>answer</th>\n",
       "      <th>untrained_prediction</th>\n",
       "      <th>trained_prediction</th>\n",
       "    </tr>\n",
       "  </thead>\n",
       "  <tbody>\n",
       "    <tr>\n",
       "      <th>0</th>\n",
       "      <td>How does sector rotation work?</td>\n",
       "      <td>This system provides tailored financial advice...</td>\n",
       "      <td>&lt;|begin_of_text|&gt;&lt;|start_header_id|&gt;system&lt;|en...</td>\n",
       "      <td>Sector rotation involves shifting investments ...</td>\n",
       "      <td>The text does not provide information on secto...</td>\n",
       "      <td>Sector rotation involves shifting investments ...</td>\n",
       "    </tr>\n",
       "    <tr>\n",
       "      <th>1</th>\n",
       "      <td>What are the benefits of investing in the luxu...</td>\n",
       "      <td>This system provides tailored financial advice...</td>\n",
       "      <td>&lt;|begin_of_text|&gt;&lt;|start_header_id|&gt;system&lt;|en...</td>\n",
       "      <td>The luxury goods market caters to affluent con...</td>\n",
       "      <td>The provided information does not mention the ...</td>\n",
       "      <td>The luxury goods market, which includes high-e...</td>\n",
       "    </tr>\n",
       "    <tr>\n",
       "      <th>2</th>\n",
       "      <td>What were the book value and fair value of Gen...</td>\n",
       "      <td>We own certain corporate debt securities of Ge...</td>\n",
       "      <td>&lt;|begin_of_text|&gt;&lt;|start_header_id|&gt;system&lt;|en...</td>\n",
       "      <td>The book value was $379 million and the fair v...</td>\n",
       "      <td>The book value of Gentiva Hospice's corporate ...</td>\n",
       "      <td>The book value of Gentiva Hospice’s corporate ...</td>\n",
       "    </tr>\n",
       "    <tr>\n",
       "      <th>3</th>\n",
       "      <td>What was the total value of the aggregate tran...</td>\n",
       "      <td>On September 5, 2023, we acquired Black Knight...</td>\n",
       "      <td>&lt;|begin_of_text|&gt;&lt;|start_header_id|&gt;system&lt;|en...</td>\n",
       "      <td>The total value of the aggregate transaction f...</td>\n",
       "      <td>The total value of the aggregate transaction f...</td>\n",
       "      <td>The total value of the aggregate transaction f...</td>\n",
       "    </tr>\n",
       "    <tr>\n",
       "      <th>4</th>\n",
       "      <td>Should I consider investing in companies with ...</td>\n",
       "      <td>This system provides tailored financial advice...</td>\n",
       "      <td>&lt;|begin_of_text|&gt;&lt;|start_header_id|&gt;system&lt;|en...</td>\n",
       "      <td>Companies with high market share often enjoy c...</td>\n",
       "      <td>The provided information does not directly ans...</td>\n",
       "      <td>High market share companies tend to be more st...</td>\n",
       "    </tr>\n",
       "  </tbody>\n",
       "</table>\n",
       "</div>"
      ],
      "text/plain": [
       "                                            question  \\\n",
       "0                     How does sector rotation work?   \n",
       "1  What are the benefits of investing in the luxu...   \n",
       "2  What were the book value and fair value of Gen...   \n",
       "3  What was the total value of the aggregate tran...   \n",
       "4  Should I consider investing in companies with ...   \n",
       "\n",
       "                                             context  \\\n",
       "0  This system provides tailored financial advice...   \n",
       "1  This system provides tailored financial advice...   \n",
       "2  We own certain corporate debt securities of Ge...   \n",
       "3  On September 5, 2023, we acquired Black Knight...   \n",
       "4  This system provides tailored financial advice...   \n",
       "\n",
       "                                              prompt  \\\n",
       "0  <|begin_of_text|><|start_header_id|>system<|en...   \n",
       "1  <|begin_of_text|><|start_header_id|>system<|en...   \n",
       "2  <|begin_of_text|><|start_header_id|>system<|en...   \n",
       "3  <|begin_of_text|><|start_header_id|>system<|en...   \n",
       "4  <|begin_of_text|><|start_header_id|>system<|en...   \n",
       "\n",
       "                                              answer  \\\n",
       "0  Sector rotation involves shifting investments ...   \n",
       "1  The luxury goods market caters to affluent con...   \n",
       "2  The book value was $379 million and the fair v...   \n",
       "3  The total value of the aggregate transaction f...   \n",
       "4  Companies with high market share often enjoy c...   \n",
       "\n",
       "                                untrained_prediction  \\\n",
       "0  The text does not provide information on secto...   \n",
       "1  The provided information does not mention the ...   \n",
       "2  The book value of Gentiva Hospice's corporate ...   \n",
       "3  The total value of the aggregate transaction f...   \n",
       "4  The provided information does not directly ans...   \n",
       "\n",
       "                                  trained_prediction  \n",
       "0  Sector rotation involves shifting investments ...  \n",
       "1  The luxury goods market, which includes high-e...  \n",
       "2  The book value of Gentiva Hospice’s corporate ...  \n",
       "3  The total value of the aggregate transaction f...  \n",
       "4  High market share companies tend to be more st...  "
      ]
     },
     "execution_count": 230,
     "metadata": {},
     "output_type": "execute_result"
    }
   ],
   "source": [
    "# Load the dataset\n",
    "df1 = pd.read_csv('predictions.csv')\n",
    "df1.head()"
   ]
  },
  {
   "cell_type": "code",
   "execution_count": 231,
   "id": "6cce996d-a75b-44eb-800c-1c51c2fee4c3",
   "metadata": {
    "tags": []
   },
   "outputs": [
    {
     "data": {
      "text/html": [
       "<div>\n",
       "<style scoped>\n",
       "    .dataframe tbody tr th:only-of-type {\n",
       "        vertical-align: middle;\n",
       "    }\n",
       "\n",
       "    .dataframe tbody tr th {\n",
       "        vertical-align: top;\n",
       "    }\n",
       "\n",
       "    .dataframe thead th {\n",
       "        text-align: right;\n",
       "    }\n",
       "</style>\n",
       "<table border=\"1\" class=\"dataframe\">\n",
       "  <thead>\n",
       "    <tr style=\"text-align: right;\">\n",
       "      <th></th>\n",
       "      <th>question</th>\n",
       "      <th>context</th>\n",
       "      <th>prompt</th>\n",
       "      <th>answer</th>\n",
       "      <th>untrained_prediction</th>\n",
       "      <th>trained_prediction</th>\n",
       "      <th>gpt-4o</th>\n",
       "      <th>google-gemma</th>\n",
       "    </tr>\n",
       "  </thead>\n",
       "  <tbody>\n",
       "    <tr>\n",
       "      <th>0</th>\n",
       "      <td>How does sector rotation work?</td>\n",
       "      <td>This system provides tailored financial advice...</td>\n",
       "      <td>&lt;|begin_of_text|&gt;&lt;|start_header_id|&gt;system&lt;|en...</td>\n",
       "      <td>Sector rotation involves shifting investments ...</td>\n",
       "      <td>The text does not provide information on secto...</td>\n",
       "      <td>Sector rotation involves shifting investments ...</td>\n",
       "      <td>Sector rotation is an investment strategy that...</td>\n",
       "      <td>\\n\\nThese are a mix of questions about finance...</td>\n",
       "    </tr>\n",
       "    <tr>\n",
       "      <th>1</th>\n",
       "      <td>What are the benefits of investing in the luxu...</td>\n",
       "      <td>This system provides tailored financial advice...</td>\n",
       "      <td>&lt;|begin_of_text|&gt;&lt;|start_header_id|&gt;system&lt;|en...</td>\n",
       "      <td>The luxury goods market caters to affluent con...</td>\n",
       "      <td>The provided information does not mention the ...</td>\n",
       "      <td>The luxury goods market, which includes high-e...</td>\n",
       "      <td>Investing in the luxury goods market can offer...</td>\n",
       "      <td>\\n\\nThese are all questions about financial pe...</td>\n",
       "    </tr>\n",
       "    <tr>\n",
       "      <th>2</th>\n",
       "      <td>What were the book value and fair value of Gen...</td>\n",
       "      <td>We own certain corporate debt securities of Ge...</td>\n",
       "      <td>&lt;|begin_of_text|&gt;&lt;|start_header_id|&gt;system&lt;|en...</td>\n",
       "      <td>The book value was $379 million and the fair v...</td>\n",
       "      <td>The book value of Gentiva Hospice's corporate ...</td>\n",
       "      <td>The book value of Gentiva Hospice’s corporate ...</td>\n",
       "      <td>At December 31, 2023, the book value of Gentiv...</td>\n",
       "      <td>\\n\\nThese are some examples of questions that ...</td>\n",
       "    </tr>\n",
       "    <tr>\n",
       "      <th>3</th>\n",
       "      <td>What was the total value of the aggregate tran...</td>\n",
       "      <td>On September 5, 2023, we acquired Black Knight...</td>\n",
       "      <td>&lt;|begin_of_text|&gt;&lt;|start_header_id|&gt;system&lt;|en...</td>\n",
       "      <td>The total value of the aggregate transaction f...</td>\n",
       "      <td>The total value of the aggregate transaction f...</td>\n",
       "      <td>The total value of the aggregate transaction f...</td>\n",
       "      <td>The total value of the aggregate transaction f...</td>\n",
       "      <td>\\n\\nThe provided context is a mix of questions...</td>\n",
       "    </tr>\n",
       "    <tr>\n",
       "      <th>4</th>\n",
       "      <td>Should I consider investing in companies with ...</td>\n",
       "      <td>This system provides tailored financial advice...</td>\n",
       "      <td>&lt;|begin_of_text|&gt;&lt;|start_header_id|&gt;system&lt;|en...</td>\n",
       "      <td>Companies with high market share often enjoy c...</td>\n",
       "      <td>The provided information does not directly ans...</td>\n",
       "      <td>High market share companies tend to be more st...</td>\n",
       "      <td>Investing in companies with high market share ...</td>\n",
       "      <td>\\n\\nThese are some examples of questions that ...</td>\n",
       "    </tr>\n",
       "  </tbody>\n",
       "</table>\n",
       "</div>"
      ],
      "text/plain": [
       "                                            question  \\\n",
       "0                     How does sector rotation work?   \n",
       "1  What are the benefits of investing in the luxu...   \n",
       "2  What were the book value and fair value of Gen...   \n",
       "3  What was the total value of the aggregate tran...   \n",
       "4  Should I consider investing in companies with ...   \n",
       "\n",
       "                                             context  \\\n",
       "0  This system provides tailored financial advice...   \n",
       "1  This system provides tailored financial advice...   \n",
       "2  We own certain corporate debt securities of Ge...   \n",
       "3  On September 5, 2023, we acquired Black Knight...   \n",
       "4  This system provides tailored financial advice...   \n",
       "\n",
       "                                              prompt  \\\n",
       "0  <|begin_of_text|><|start_header_id|>system<|en...   \n",
       "1  <|begin_of_text|><|start_header_id|>system<|en...   \n",
       "2  <|begin_of_text|><|start_header_id|>system<|en...   \n",
       "3  <|begin_of_text|><|start_header_id|>system<|en...   \n",
       "4  <|begin_of_text|><|start_header_id|>system<|en...   \n",
       "\n",
       "                                              answer  \\\n",
       "0  Sector rotation involves shifting investments ...   \n",
       "1  The luxury goods market caters to affluent con...   \n",
       "2  The book value was $379 million and the fair v...   \n",
       "3  The total value of the aggregate transaction f...   \n",
       "4  Companies with high market share often enjoy c...   \n",
       "\n",
       "                                untrained_prediction  \\\n",
       "0  The text does not provide information on secto...   \n",
       "1  The provided information does not mention the ...   \n",
       "2  The book value of Gentiva Hospice's corporate ...   \n",
       "3  The total value of the aggregate transaction f...   \n",
       "4  The provided information does not directly ans...   \n",
       "\n",
       "                                  trained_prediction  \\\n",
       "0  Sector rotation involves shifting investments ...   \n",
       "1  The luxury goods market, which includes high-e...   \n",
       "2  The book value of Gentiva Hospice’s corporate ...   \n",
       "3  The total value of the aggregate transaction f...   \n",
       "4  High market share companies tend to be more st...   \n",
       "\n",
       "                                              gpt-4o  \\\n",
       "0  Sector rotation is an investment strategy that...   \n",
       "1  Investing in the luxury goods market can offer...   \n",
       "2  At December 31, 2023, the book value of Gentiv...   \n",
       "3  The total value of the aggregate transaction f...   \n",
       "4  Investing in companies with high market share ...   \n",
       "\n",
       "                                        google-gemma  \n",
       "0  \\n\\nThese are a mix of questions about finance...  \n",
       "1  \\n\\nThese are all questions about financial pe...  \n",
       "2  \\n\\nThese are some examples of questions that ...  \n",
       "3  \\n\\nThe provided context is a mix of questions...  \n",
       "4  \\n\\nThese are some examples of questions that ...  "
      ]
     },
     "execution_count": 231,
     "metadata": {},
     "output_type": "execute_result"
    }
   ],
   "source": [
    "df1[\"gpt-4o\"]=df[\"predictions\"]\n",
    "df1[\"google-gemma\"]=predictions_df['untrained_prediction']\n",
    "df1.head()"
   ]
  },
  {
   "cell_type": "code",
   "execution_count": 227,
   "id": "ca6b8458-76cd-40a2-8497-b6a2ddf0fc36",
   "metadata": {
    "tags": []
   },
   "outputs": [
    {
     "data": {
      "text/html": [
       "<div>\n",
       "<style scoped>\n",
       "    .dataframe tbody tr th:only-of-type {\n",
       "        vertical-align: middle;\n",
       "    }\n",
       "\n",
       "    .dataframe tbody tr th {\n",
       "        vertical-align: top;\n",
       "    }\n",
       "\n",
       "    .dataframe thead th {\n",
       "        text-align: right;\n",
       "    }\n",
       "</style>\n",
       "<table border=\"1\" class=\"dataframe\">\n",
       "  <thead>\n",
       "    <tr style=\"text-align: right;\">\n",
       "      <th></th>\n",
       "      <th>question</th>\n",
       "      <th>context</th>\n",
       "      <th>prompt</th>\n",
       "      <th>answer</th>\n",
       "      <th>untrained_prediction</th>\n",
       "      <th>trained_prediction</th>\n",
       "      <th>gpt-4o</th>\n",
       "      <th>google-gemma</th>\n",
       "      <th>untrained_embedding</th>\n",
       "      <th>trained_embedding</th>\n",
       "      <th>answer_embedding</th>\n",
       "    </tr>\n",
       "  </thead>\n",
       "  <tbody>\n",
       "    <tr>\n",
       "      <th>0</th>\n",
       "      <td>How does sector rotation work?</td>\n",
       "      <td>This system provides tailored financial advice...</td>\n",
       "      <td>&lt;|begin_of_text|&gt;&lt;|start_header_id|&gt;system&lt;|en...</td>\n",
       "      <td>Sector rotation involves shifting investments ...</td>\n",
       "      <td>The text does not provide information on secto...</td>\n",
       "      <td>Sector rotation involves shifting investments ...</td>\n",
       "      <td>[-0.064, -0.0755, -0.09753, -0.06866, 0.0925, ...</td>\n",
       "      <td>\\n\\nThese are a mix of questions about finance...</td>\n",
       "      <td>[-0.0164, -0.0681, -0.138, -0.0717, 0.0292, -0...</td>\n",
       "      <td>[-0.03275, -0.2083, -0.1153, -0.08466, -0.0345...</td>\n",
       "      <td>[-0.234, -0.10455, -0.0928, -0.2202, -0.0819, ...</td>\n",
       "    </tr>\n",
       "    <tr>\n",
       "      <th>1</th>\n",
       "      <td>What are the benefits of investing in the luxu...</td>\n",
       "      <td>This system provides tailored financial advice...</td>\n",
       "      <td>&lt;|begin_of_text|&gt;&lt;|start_header_id|&gt;system&lt;|en...</td>\n",
       "      <td>The luxury goods market caters to affluent con...</td>\n",
       "      <td>The provided information does not mention the ...</td>\n",
       "      <td>The luxury goods market, which includes high-e...</td>\n",
       "      <td>[0.145, 0.1299, 0.04214, 0.002623, 0.11957, 0....</td>\n",
       "      <td>\\n\\nThese are all questions about financial pe...</td>\n",
       "      <td>[0.2258, -0.06506, 0.1164, 0.2308, 0.1228, 0.1...</td>\n",
       "      <td>[0.07886, -0.0835, -0.04477, 0.0831, 0.0429, 0...</td>\n",
       "      <td>[0.1447, -0.1837, 0.0639, 0.1255, 0.02403, 0.0...</td>\n",
       "    </tr>\n",
       "    <tr>\n",
       "      <th>2</th>\n",
       "      <td>What were the book value and fair value of Gen...</td>\n",
       "      <td>We own certain corporate debt securities of Ge...</td>\n",
       "      <td>&lt;|begin_of_text|&gt;&lt;|start_header_id|&gt;system&lt;|en...</td>\n",
       "      <td>The book value was $379 million and the fair v...</td>\n",
       "      <td>The book value of Gentiva Hospice's corporate ...</td>\n",
       "      <td>The book value of Gentiva Hospice’s corporate ...</td>\n",
       "      <td>[-0.0333, 0.06683, -0.11664, -0.2288, -0.2192,...</td>\n",
       "      <td>\\n\\nThese are some examples of questions that ...</td>\n",
       "      <td>[0.05026, 0.1636, -0.1477, -0.2177, -0.2258, -...</td>\n",
       "      <td>[-0.01825, 0.05038, -0.1407, -0.1808, -0.2812,...</td>\n",
       "      <td>[-0.1414, -0.1853, -0.09186, 0.005196, -0.2354...</td>\n",
       "    </tr>\n",
       "    <tr>\n",
       "      <th>3</th>\n",
       "      <td>What was the total value of the aggregate tran...</td>\n",
       "      <td>On September 5, 2023, we acquired Black Knight...</td>\n",
       "      <td>&lt;|begin_of_text|&gt;&lt;|start_header_id|&gt;system&lt;|en...</td>\n",
       "      <td>The total value of the aggregate transaction f...</td>\n",
       "      <td>The total value of the aggregate transaction f...</td>\n",
       "      <td>The total value of the aggregate transaction f...</td>\n",
       "      <td>[-0.181, -0.097, -0.3398, 0.2184, -0.0729, 0.0...</td>\n",
       "      <td>\\n\\nThe provided context is a mix of questions...</td>\n",
       "      <td>[-0.1783, -0.09607, -0.3352, 0.2179, -0.07263,...</td>\n",
       "      <td>[-0.1699, -0.10535, -0.3662, 0.2168, -0.08966,...</td>\n",
       "      <td>[-0.1705, -0.1019, -0.36, 0.2183, -0.08527, 0....</td>\n",
       "    </tr>\n",
       "    <tr>\n",
       "      <th>4</th>\n",
       "      <td>Should I consider investing in companies with ...</td>\n",
       "      <td>This system provides tailored financial advice...</td>\n",
       "      <td>&lt;|begin_of_text|&gt;&lt;|start_header_id|&gt;system&lt;|en...</td>\n",
       "      <td>Companies with high market share often enjoy c...</td>\n",
       "      <td>The provided information does not directly ans...</td>\n",
       "      <td>High market share companies tend to be more st...</td>\n",
       "      <td>[0.1523, -0.1338, -0.1187, -0.1749, -0.01111, ...</td>\n",
       "      <td>\\n\\nThese are some examples of questions that ...</td>\n",
       "      <td>[0.1135, -0.3542, 0.02855, -0.1225, -0.1396, 0...</td>\n",
       "      <td>[0.1769, -0.405, -0.1086, -0.0555, 0.0377, 0.1...</td>\n",
       "      <td>[0.03387, -0.585, 0.05948, 0.0505, -0.03882, 0...</td>\n",
       "    </tr>\n",
       "  </tbody>\n",
       "</table>\n",
       "</div>"
      ],
      "text/plain": [
       "                                            question  \\\n",
       "0                     How does sector rotation work?   \n",
       "1  What are the benefits of investing in the luxu...   \n",
       "2  What were the book value and fair value of Gen...   \n",
       "3  What was the total value of the aggregate tran...   \n",
       "4  Should I consider investing in companies with ...   \n",
       "\n",
       "                                             context  \\\n",
       "0  This system provides tailored financial advice...   \n",
       "1  This system provides tailored financial advice...   \n",
       "2  We own certain corporate debt securities of Ge...   \n",
       "3  On September 5, 2023, we acquired Black Knight...   \n",
       "4  This system provides tailored financial advice...   \n",
       "\n",
       "                                              prompt  \\\n",
       "0  <|begin_of_text|><|start_header_id|>system<|en...   \n",
       "1  <|begin_of_text|><|start_header_id|>system<|en...   \n",
       "2  <|begin_of_text|><|start_header_id|>system<|en...   \n",
       "3  <|begin_of_text|><|start_header_id|>system<|en...   \n",
       "4  <|begin_of_text|><|start_header_id|>system<|en...   \n",
       "\n",
       "                                              answer  \\\n",
       "0  Sector rotation involves shifting investments ...   \n",
       "1  The luxury goods market caters to affluent con...   \n",
       "2  The book value was $379 million and the fair v...   \n",
       "3  The total value of the aggregate transaction f...   \n",
       "4  Companies with high market share often enjoy c...   \n",
       "\n",
       "                                untrained_prediction  \\\n",
       "0  The text does not provide information on secto...   \n",
       "1  The provided information does not mention the ...   \n",
       "2  The book value of Gentiva Hospice's corporate ...   \n",
       "3  The total value of the aggregate transaction f...   \n",
       "4  The provided information does not directly ans...   \n",
       "\n",
       "                                  trained_prediction  \\\n",
       "0  Sector rotation involves shifting investments ...   \n",
       "1  The luxury goods market, which includes high-e...   \n",
       "2  The book value of Gentiva Hospice’s corporate ...   \n",
       "3  The total value of the aggregate transaction f...   \n",
       "4  High market share companies tend to be more st...   \n",
       "\n",
       "                                              gpt-4o  \\\n",
       "0  [-0.064, -0.0755, -0.09753, -0.06866, 0.0925, ...   \n",
       "1  [0.145, 0.1299, 0.04214, 0.002623, 0.11957, 0....   \n",
       "2  [-0.0333, 0.06683, -0.11664, -0.2288, -0.2192,...   \n",
       "3  [-0.181, -0.097, -0.3398, 0.2184, -0.0729, 0.0...   \n",
       "4  [0.1523, -0.1338, -0.1187, -0.1749, -0.01111, ...   \n",
       "\n",
       "                                        google-gemma  \\\n",
       "0  \\n\\nThese are a mix of questions about finance...   \n",
       "1  \\n\\nThese are all questions about financial pe...   \n",
       "2  \\n\\nThese are some examples of questions that ...   \n",
       "3  \\n\\nThe provided context is a mix of questions...   \n",
       "4  \\n\\nThese are some examples of questions that ...   \n",
       "\n",
       "                                 untrained_embedding  \\\n",
       "0  [-0.0164, -0.0681, -0.138, -0.0717, 0.0292, -0...   \n",
       "1  [0.2258, -0.06506, 0.1164, 0.2308, 0.1228, 0.1...   \n",
       "2  [0.05026, 0.1636, -0.1477, -0.2177, -0.2258, -...   \n",
       "3  [-0.1783, -0.09607, -0.3352, 0.2179, -0.07263,...   \n",
       "4  [0.1135, -0.3542, 0.02855, -0.1225, -0.1396, 0...   \n",
       "\n",
       "                                   trained_embedding  \\\n",
       "0  [-0.03275, -0.2083, -0.1153, -0.08466, -0.0345...   \n",
       "1  [0.07886, -0.0835, -0.04477, 0.0831, 0.0429, 0...   \n",
       "2  [-0.01825, 0.05038, -0.1407, -0.1808, -0.2812,...   \n",
       "3  [-0.1699, -0.10535, -0.3662, 0.2168, -0.08966,...   \n",
       "4  [0.1769, -0.405, -0.1086, -0.0555, 0.0377, 0.1...   \n",
       "\n",
       "                                    answer_embedding  \n",
       "0  [-0.234, -0.10455, -0.0928, -0.2202, -0.0819, ...  \n",
       "1  [0.1447, -0.1837, 0.0639, 0.1255, 0.02403, 0.0...  \n",
       "2  [-0.1414, -0.1853, -0.09186, 0.005196, -0.2354...  \n",
       "3  [-0.1705, -0.1019, -0.36, 0.2183, -0.08527, 0....  \n",
       "4  [0.03387, -0.585, 0.05948, 0.0505, -0.03882, 0...  "
      ]
     },
     "execution_count": 227,
     "metadata": {},
     "output_type": "execute_result"
    }
   ],
   "source": [
    "df1.head()"
   ]
  },
  {
   "cell_type": "code",
   "execution_count": 232,
   "id": "fa5dfc21-ca54-4fd9-b0cb-227ed1635d0c",
   "metadata": {
    "tags": []
   },
   "outputs": [
    {
     "name": "stderr",
     "output_type": "stream",
     "text": [
      "/home/jovyan/FinSightAI-Shashank/Virtual/FinSightAI/FinDecide/Test/Test3/finetune/lib/python3.10/site-packages/transformers/tokenization_utils_base.py:1601: FutureWarning: `clean_up_tokenization_spaces` was not set. It will be set to `True` by default. This behavior will be depracted in transformers v4.45, and will be then set to `False` by default. For more details check this issue: https://github.com/huggingface/transformers/issues/31884\n",
      "  warnings.warn(\n"
     ]
    }
   ],
   "source": [
    "# Load the model and tokenizer, and move the model to the GPU\n",
    "model_name = 'sentence-transformers/all-MiniLM-L6-v2'\n",
    "tokenizer = AutoTokenizer.from_pretrained(model_name)\n",
    "model = AutoModel.from_pretrained(model_name).to('cuda')\n",
    "\n",
    "# Define cosine similarity function\n",
    "def cosine_similarity(a, b):\n",
    "    return np.dot(a, b) / (np.linalg.norm(a) * np.linalg.norm(b))\n",
    "\n",
    "# Function to get embeddings on GPU\n",
    "def get_embeddings(texts, batch_size=32):\n",
    "    embeddings = []\n",
    "    with torch.no_grad():\n",
    "        for i in range(0, len(texts), batch_size):\n",
    "            batch = texts[i:i + batch_size]\n",
    "            tokens = tokenizer(batch, padding=True, truncation=True, return_tensors='pt').to('cuda')\n",
    "            outputs = model(**tokens)\n",
    "            batch_embeddings = outputs.last_hidden_state.mean(dim=1).cpu().numpy()\n",
    "            embeddings.extend(batch_embeddings)\n",
    "    return embeddings\n",
    "\n",
    "# Function to calculate embeddings for all texts\n",
    "def calculate_embeddings(df):\n",
    "    df['untrained_embedding'] = get_embeddings(df['untrained_prediction'].tolist())\n",
    "    df['trained_embedding'] = get_embeddings(df['trained_prediction'].tolist())\n",
    "    df['answer_embedding'] = get_embeddings(df['answer'].tolist())\n",
    "    df['gpt-4o_embeddings'] = get_embeddings(df['gpt-4o'].tolist())\n",
    "    return df"
   ]
  },
  {
   "cell_type": "code",
   "execution_count": 233,
   "id": "4e765f5c-9e97-4c20-a41e-f48162fcccc6",
   "metadata": {
    "tags": []
   },
   "outputs": [],
   "source": [
    "# Function to calculate precision, recall, F1 score, and accuracy\n",
    "df = calculate_embeddings(df1)"
   ]
  },
  {
   "cell_type": "code",
   "execution_count": 236,
   "id": "6ac21c77-d540-4834-991e-8070488ac5ee",
   "metadata": {
    "tags": []
   },
   "outputs": [
    {
     "name": "stdout",
     "output_type": "stream",
     "text": [
      "Llama 3 Model - Precision: 100.00%, Recall: 53.00%, F1 Score: 69.28%, Accuracy: 53.00%\n",
      "Finetuned Model - Precision: 100.00%, Recall: 71.00%, F1 Score: 83.04%, Accuracy: 71.00%\n",
      "GPT-4 Model - Precision: 100.00%, Recall: 32.00%, F1 Score: 48.48%, Accuracy: 32.00%\n"
     ]
    }
   ],
   "source": [
    "def calculate_metrics(predictions, answers, threshold=0.8):\n",
    "    similarity_scores = [\n",
    "        cosine_similarity(pred_embedding, ans_embedding)\n",
    "        for pred_embedding, ans_embedding in zip(predictions, answers)\n",
    "    ]\n",
    "    \n",
    "    y_true = np.ones(len(answers))  # Ground truth: all answers are positive\n",
    "    y_pred = np.array([1 if score >= threshold else 0 for score in similarity_scores])\n",
    "\n",
    "    precision = precision_score(y_true, y_pred)\n",
    "    recall = recall_score(y_true, y_pred)\n",
    "    f1 = f1_score(y_true, y_pred)\n",
    "    accuracy = accuracy_score(y_true, y_pred)\n",
    "    \n",
    "    return precision, recall, f1, accuracy\n",
    "\n",
    "# Calculate metrics for untrained predictions\n",
    "untrained_metrics = calculate_metrics(df['untrained_embedding'], df['answer_embedding'], threshold=0.8)\n",
    "print(f'Llama 3 Model - Precision: {untrained_metrics[0]:.2%}, Recall: {untrained_metrics[1]:.2%}, F1 Score: {untrained_metrics[2]:.2%}, Accuracy: {untrained_metrics[3]:.2%}')\n",
    "\n",
    "# Calculate metrics for trained predictions\n",
    "trained_metrics = calculate_metrics(df['trained_embedding'], df['answer_embedding'], threshold=0.8)\n",
    "print(f'Finetuned Model - Precision: {trained_metrics[0]:.2%}, Recall: {trained_metrics[1]:.2%}, F1 Score: {trained_metrics[2]:.2%}, Accuracy: {trained_metrics[3]:.2%}')\n",
    "\n",
    "trained_metrics = calculate_metrics(df['gpt-4o_embeddings'], df['answer_embedding'], threshold=0.8)\n",
    "print(f'GPT-4 Model - Precision: {trained_metrics[0]:.2%}, Recall: {trained_metrics[1]:.2%}, F1 Score: {trained_metrics[2]:.2%}, Accuracy: {trained_metrics[3]:.2%}')\n",
    "\n"
   ]
  },
  {
   "cell_type": "code",
   "execution_count": 226,
   "id": "baaac790-a203-43a1-bd71-cf37973ebf11",
   "metadata": {},
   "outputs": [],
   "source": [
    "def calculate_text_metrics(predictions, answers):\n",
    "    # Setting up the Rouge and Bleu configuration\n",
    "    rouge = Rouge()\n",
    "    smoothie = SmoothingFunction().method1  # Choose method1 for smoothing as an example\n",
    "\n",
    "    # Calculating BLEU scores with smoothing\n",
    "    bleu_scores = [\n",
    "        sentence_bleu([ans.split()], pred.split(), smoothing_function=smoothie)\n",
    "        for pred, ans in zip(predictions, answers)\n",
    "    ]\n",
    "\n",
    "    # Calculating ROUGE scores, specifically focusing on ROUGE-L\n",
    "    rouge_scores = [rouge.get_scores(pred, ans, avg=True)['rouge-l'] for pred, ans in zip(predictions, answers)]\n",
    "\n",
    "    # Average scores for metrics\n",
    "    avg_bleu = np.mean(bleu_scores)\n",
    "    avg_rouge_l_f1 = np.mean([score['f'] for score in rouge_scores])  # Focusing on the F1 score of ROUGE-L\n",
    "\n",
    "    return avg_bleu, avg_rouge_l_f1"
   ]
  },
  {
   "cell_type": "code",
   "execution_count": 237,
   "id": "e2813a92-99e5-4e84-af25-48c8b3e772dc",
   "metadata": {
    "tags": []
   },
   "outputs": [
    {
     "name": "stdout",
     "output_type": "stream",
     "text": [
      "Finetuned Result - BLEU Score: 29.90%, ROUGE-L F1 Score: 59.00%\n",
      "Llama 3 Result - BLEU Score: 17.94%, ROUGE-L F1 Score: 44.57%\n",
      "GPT-4 Result - BLEU Score: 12.85%, ROUGE-L F1 Score: 33.23%\n"
     ]
    }
   ],
   "source": [
    "bleu_score, rouge_l_f1 = calculate_text_metrics(df1['trained_prediction'], df1['answer'])\n",
    "bleu_score1, rouge_l_f1_1 = calculate_text_metrics(df1['untrained_prediction'], df1['answer'])\n",
    "bleu_score11, rouge_l_f1_11 = calculate_text_metrics(df1['gpt-4o'], df1['answer'])\n",
    "print(f'Finetuned Result - BLEU Score: {bleu_score:.2%}, ROUGE-L F1 Score: {rouge_l_f1:.2%}')\n",
    "print(f'Llama 3 Result - BLEU Score: {bleu_score1:.2%}, ROUGE-L F1 Score: {rouge_l_f1_1:.2%}')\n",
    "print(f'GPT-4 Result - BLEU Score: {bleu_score11:.2%}, ROUGE-L F1 Score: {rouge_l_f1_11:.2%}')"
   ]
  },
  {
   "cell_type": "code",
   "execution_count": null,
   "id": "cd2cd124-98f3-4259-bed4-87739779174f",
   "metadata": {},
   "outputs": [],
   "source": []
  }
 ],
 "metadata": {
  "kernelspec": {
   "display_name": "Python (finetune)",
   "language": "python",
   "name": "finetune"
  },
  "language_info": {
   "codemirror_mode": {
    "name": "ipython",
    "version": 3
   },
   "file_extension": ".py",
   "mimetype": "text/x-python",
   "name": "python",
   "nbconvert_exporter": "python",
   "pygments_lexer": "ipython3",
   "version": "3.10.13"
  }
 },
 "nbformat": 4,
 "nbformat_minor": 5
}
